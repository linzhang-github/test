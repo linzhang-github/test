{
 "cells": [
  {
   "cell_type": "code",
   "execution_count": 1,
   "metadata": {},
   "outputs": [
    {
     "name": "stdout",
     "output_type": "stream",
     "text": [
      "[nltk_data] Downloading package stopwords to /home/lin/nltk_data...\n",
      "[nltk_data]   Package stopwords is already up-to-date!\n"
     ]
    }
   ],
   "source": [
    "import pandas as pd\n",
    "import numpy as np\n",
    "import string\n",
    "import os\n",
    "import csv\n",
    "from sklearn.feature_extraction.text import TfidfVectorizer\n",
    "import nltk\n",
    "from nltk.stem.porter import PorterStemmer\n",
    "from nltk.corpus import stopwords\n",
    "nltk.download('stopwords')\n",
    "from nltk.corpus import stopwords\n",
    "from nltk.stem import PorterStemmer"
   ]
  },
  {
   "cell_type": "code",
   "execution_count": 5,
   "metadata": {},
   "outputs": [
    {
     "data": {
      "text/html": [
       "<div>\n",
       "<style scoped>\n",
       "    .dataframe tbody tr th:only-of-type {\n",
       "        vertical-align: middle;\n",
       "    }\n",
       "\n",
       "    .dataframe tbody tr th {\n",
       "        vertical-align: top;\n",
       "    }\n",
       "\n",
       "    .dataframe thead th {\n",
       "        text-align: right;\n",
       "    }\n",
       "</style>\n",
       "<table border=\"1\" class=\"dataframe\">\n",
       "  <thead>\n",
       "    <tr style=\"text-align: right;\">\n",
       "      <th></th>\n",
       "      <th>Unnamed: 0</th>\n",
       "      <th>review_id</th>\n",
       "      <th>user_id</th>\n",
       "      <th>business_id</th>\n",
       "      <th>review_rating</th>\n",
       "      <th>date</th>\n",
       "      <th>text</th>\n",
       "      <th>useful</th>\n",
       "      <th>funny</th>\n",
       "      <th>cool</th>\n",
       "      <th>...</th>\n",
       "      <th>postal_code</th>\n",
       "      <th>latitude</th>\n",
       "      <th>longitude</th>\n",
       "      <th>stars</th>\n",
       "      <th>review_count</th>\n",
       "      <th>is_open</th>\n",
       "      <th>category</th>\n",
       "      <th>text_nopunct</th>\n",
       "      <th>text_lower</th>\n",
       "      <th>text_nostopwords</th>\n",
       "    </tr>\n",
       "  </thead>\n",
       "  <tbody>\n",
       "    <tr>\n",
       "      <th>0</th>\n",
       "      <td>0</td>\n",
       "      <td>vkVSCC7xljjrAI4UGfnKEQ</td>\n",
       "      <td>bv2nCi5Qv5vroFiqKGopiw</td>\n",
       "      <td>AEx2SYEUJmTxVVB18LlCwA</td>\n",
       "      <td>5</td>\n",
       "      <td>2016-05-28</td>\n",
       "      <td>Super simple place but amazing nonetheless. It...</td>\n",
       "      <td>0</td>\n",
       "      <td>0</td>\n",
       "      <td>0</td>\n",
       "      <td>...</td>\n",
       "      <td>H2T 2M1</td>\n",
       "      <td>45.523333</td>\n",
       "      <td>-73.594859</td>\n",
       "      <td>4.0</td>\n",
       "      <td>84.0</td>\n",
       "      <td>1.0</td>\n",
       "      <td>Restaurants</td>\n",
       "      <td>Super simple place but amazing nonetheless Its...</td>\n",
       "      <td>['super', 'simple', 'place', 'but', 'amazing',...</td>\n",
       "      <td>['super', 'simple', 'place', 'amazing', 'nonet...</td>\n",
       "    </tr>\n",
       "    <tr>\n",
       "      <th>1</th>\n",
       "      <td>1</td>\n",
       "      <td>n6QzIUObkYshz4dz2QRJTw</td>\n",
       "      <td>bv2nCi5Qv5vroFiqKGopiw</td>\n",
       "      <td>VR6GpWIda3SfvPC-lg9H3w</td>\n",
       "      <td>5</td>\n",
       "      <td>2016-05-28</td>\n",
       "      <td>Small unassuming place that changes their menu...</td>\n",
       "      <td>0</td>\n",
       "      <td>0</td>\n",
       "      <td>0</td>\n",
       "      <td>...</td>\n",
       "      <td>H4C 1S7</td>\n",
       "      <td>45.472902</td>\n",
       "      <td>-73.588321</td>\n",
       "      <td>4.5</td>\n",
       "      <td>50.0</td>\n",
       "      <td>1.0</td>\n",
       "      <td>Restaurants</td>\n",
       "      <td>Small unassuming place that changes their menu...</td>\n",
       "      <td>['small', 'unassuming', 'place', 'that', 'chan...</td>\n",
       "      <td>['small', 'unassuming', 'place', 'changes', 'm...</td>\n",
       "    </tr>\n",
       "    <tr>\n",
       "      <th>2</th>\n",
       "      <td>2</td>\n",
       "      <td>MV3CcKScW05u5LVfF6ok0g</td>\n",
       "      <td>bv2nCi5Qv5vroFiqKGopiw</td>\n",
       "      <td>CKC0-MOWMqoeWf6s-szl8g</td>\n",
       "      <td>5</td>\n",
       "      <td>2016-05-28</td>\n",
       "      <td>Lester's is located in a beautiful neighborhoo...</td>\n",
       "      <td>0</td>\n",
       "      <td>0</td>\n",
       "      <td>0</td>\n",
       "      <td>...</td>\n",
       "      <td>H2V 1V1</td>\n",
       "      <td>45.522144</td>\n",
       "      <td>-73.607076</td>\n",
       "      <td>4.0</td>\n",
       "      <td>70.0</td>\n",
       "      <td>1.0</td>\n",
       "      <td>Restaurants</td>\n",
       "      <td>Lesters is located in a beautiful neighborhood...</td>\n",
       "      <td>['lesters', 'is', 'located', 'in', 'a', 'beaut...</td>\n",
       "      <td>['lesters', 'located', 'beautiful', 'neighborh...</td>\n",
       "    </tr>\n",
       "    <tr>\n",
       "      <th>3</th>\n",
       "      <td>3</td>\n",
       "      <td>IXvOzsEMYtiJI0CARmj77Q</td>\n",
       "      <td>bv2nCi5Qv5vroFiqKGopiw</td>\n",
       "      <td>ACFtxLv8pGrrxMm6EgjreA</td>\n",
       "      <td>4</td>\n",
       "      <td>2016-05-28</td>\n",
       "      <td>Love coming here. Yes the place always needs t...</td>\n",
       "      <td>0</td>\n",
       "      <td>0</td>\n",
       "      <td>0</td>\n",
       "      <td>...</td>\n",
       "      <td>H3B 1B9</td>\n",
       "      <td>45.502510</td>\n",
       "      <td>-73.570119</td>\n",
       "      <td>3.5</td>\n",
       "      <td>61.0</td>\n",
       "      <td>1.0</td>\n",
       "      <td>Restaurants</td>\n",
       "      <td>Love coming here Yes the place always needs th...</td>\n",
       "      <td>['love', 'coming', 'here', 'yes', 'the', 'plac...</td>\n",
       "      <td>['love', 'coming', 'yes', 'place', 'always', '...</td>\n",
       "    </tr>\n",
       "    <tr>\n",
       "      <th>4</th>\n",
       "      <td>4</td>\n",
       "      <td>L_9BTb55X0GDtThi6GlZ6w</td>\n",
       "      <td>bv2nCi5Qv5vroFiqKGopiw</td>\n",
       "      <td>s2I_Ni76bjJNK9yG60iD-Q</td>\n",
       "      <td>4</td>\n",
       "      <td>2016-05-28</td>\n",
       "      <td>Had their chocolate almond croissant and it wa...</td>\n",
       "      <td>0</td>\n",
       "      <td>0</td>\n",
       "      <td>0</td>\n",
       "      <td>...</td>\n",
       "      <td>H2Y 1Z6</td>\n",
       "      <td>45.503544</td>\n",
       "      <td>-73.554469</td>\n",
       "      <td>4.5</td>\n",
       "      <td>397.0</td>\n",
       "      <td>1.0</td>\n",
       "      <td>Restaurants</td>\n",
       "      <td>Had their chocolate almond croissant and it wa...</td>\n",
       "      <td>['had', 'their', 'chocolate', 'almond', 'crois...</td>\n",
       "      <td>['chocolate', 'almond', 'croissant', 'amazing'...</td>\n",
       "    </tr>\n",
       "  </tbody>\n",
       "</table>\n",
       "<p>5 rows × 25 columns</p>\n",
       "</div>"
      ],
      "text/plain": [
       "   Unnamed: 0               review_id                 user_id  \\\n",
       "0           0  vkVSCC7xljjrAI4UGfnKEQ  bv2nCi5Qv5vroFiqKGopiw   \n",
       "1           1  n6QzIUObkYshz4dz2QRJTw  bv2nCi5Qv5vroFiqKGopiw   \n",
       "2           2  MV3CcKScW05u5LVfF6ok0g  bv2nCi5Qv5vroFiqKGopiw   \n",
       "3           3  IXvOzsEMYtiJI0CARmj77Q  bv2nCi5Qv5vroFiqKGopiw   \n",
       "4           4  L_9BTb55X0GDtThi6GlZ6w  bv2nCi5Qv5vroFiqKGopiw   \n",
       "\n",
       "              business_id  review_rating        date  \\\n",
       "0  AEx2SYEUJmTxVVB18LlCwA              5  2016-05-28   \n",
       "1  VR6GpWIda3SfvPC-lg9H3w              5  2016-05-28   \n",
       "2  CKC0-MOWMqoeWf6s-szl8g              5  2016-05-28   \n",
       "3  ACFtxLv8pGrrxMm6EgjreA              4  2016-05-28   \n",
       "4  s2I_Ni76bjJNK9yG60iD-Q              4  2016-05-28   \n",
       "\n",
       "                                                text  useful  funny  cool  \\\n",
       "0  Super simple place but amazing nonetheless. It...       0      0     0   \n",
       "1  Small unassuming place that changes their menu...       0      0     0   \n",
       "2  Lester's is located in a beautiful neighborhoo...       0      0     0   \n",
       "3  Love coming here. Yes the place always needs t...       0      0     0   \n",
       "4  Had their chocolate almond croissant and it wa...       0      0     0   \n",
       "\n",
       "                         ...                         postal_code   latitude  \\\n",
       "0                        ...                             H2T 2M1  45.523333   \n",
       "1                        ...                             H4C 1S7  45.472902   \n",
       "2                        ...                             H2V 1V1  45.522144   \n",
       "3                        ...                             H3B 1B9  45.502510   \n",
       "4                        ...                             H2Y 1Z6  45.503544   \n",
       "\n",
       "   longitude stars review_count is_open     category  \\\n",
       "0 -73.594859   4.0         84.0     1.0  Restaurants   \n",
       "1 -73.588321   4.5         50.0     1.0  Restaurants   \n",
       "2 -73.607076   4.0         70.0     1.0  Restaurants   \n",
       "3 -73.570119   3.5         61.0     1.0  Restaurants   \n",
       "4 -73.554469   4.5        397.0     1.0  Restaurants   \n",
       "\n",
       "                                        text_nopunct  \\\n",
       "0  Super simple place but amazing nonetheless Its...   \n",
       "1  Small unassuming place that changes their menu...   \n",
       "2  Lesters is located in a beautiful neighborhood...   \n",
       "3  Love coming here Yes the place always needs th...   \n",
       "4  Had their chocolate almond croissant and it wa...   \n",
       "\n",
       "                                          text_lower  \\\n",
       "0  ['super', 'simple', 'place', 'but', 'amazing',...   \n",
       "1  ['small', 'unassuming', 'place', 'that', 'chan...   \n",
       "2  ['lesters', 'is', 'located', 'in', 'a', 'beaut...   \n",
       "3  ['love', 'coming', 'here', 'yes', 'the', 'plac...   \n",
       "4  ['had', 'their', 'chocolate', 'almond', 'crois...   \n",
       "\n",
       "                                    text_nostopwords  \n",
       "0  ['super', 'simple', 'place', 'amazing', 'nonet...  \n",
       "1  ['small', 'unassuming', 'place', 'changes', 'm...  \n",
       "2  ['lesters', 'located', 'beautiful', 'neighborh...  \n",
       "3  ['love', 'coming', 'yes', 'place', 'always', '...  \n",
       "4  ['chocolate', 'almond', 'croissant', 'amazing'...  \n",
       "\n",
       "[5 rows x 25 columns]"
      ]
     },
     "execution_count": 5,
     "metadata": {},
     "output_type": "execute_result"
    }
   ],
   "source": []
  },
  {
   "cell_type": "code",
   "execution_count": 8,
   "metadata": {},
   "outputs": [],
   "source": [
    "# df = pd.read_csv(\"CleanedYelpData.csv\",dtype=object, nrows=1000000)"
   ]
  },
  {
   "cell_type": "code",
   "execution_count": 24,
   "metadata": {},
   "outputs": [
    {
     "data": {
      "text/html": [
       "<div>\n",
       "<style scoped>\n",
       "    .dataframe tbody tr th:only-of-type {\n",
       "        vertical-align: middle;\n",
       "    }\n",
       "\n",
       "    .dataframe tbody tr th {\n",
       "        vertical-align: top;\n",
       "    }\n",
       "\n",
       "    .dataframe thead th {\n",
       "        text-align: right;\n",
       "    }\n",
       "</style>\n",
       "<table border=\"1\" class=\"dataframe\">\n",
       "  <thead>\n",
       "    <tr style=\"text-align: right;\">\n",
       "      <th></th>\n",
       "      <th>review_id</th>\n",
       "      <th>user_id</th>\n",
       "      <th>business_id</th>\n",
       "      <th>review_rating</th>\n",
       "      <th>date</th>\n",
       "      <th>text</th>\n",
       "      <th>useful</th>\n",
       "      <th>funny</th>\n",
       "      <th>cool</th>\n",
       "      <th>name</th>\n",
       "      <th>...</th>\n",
       "      <th>latitude</th>\n",
       "      <th>longitude</th>\n",
       "      <th>stars</th>\n",
       "      <th>review_count</th>\n",
       "      <th>is_open</th>\n",
       "      <th>categories</th>\n",
       "      <th>text_nopunct</th>\n",
       "      <th>text_lower</th>\n",
       "      <th>text_nostopwords</th>\n",
       "      <th>cat_list</th>\n",
       "    </tr>\n",
       "  </thead>\n",
       "  <tbody>\n",
       "    <tr>\n",
       "      <th>0</th>\n",
       "      <td>vkVSCC7xljjrAI4UGfnKEQ</td>\n",
       "      <td>bv2nCi5Qv5vroFiqKGopiw</td>\n",
       "      <td>AEx2SYEUJmTxVVB18LlCwA</td>\n",
       "      <td>5</td>\n",
       "      <td>2016-05-28</td>\n",
       "      <td>Super simple place but amazing nonetheless. It...</td>\n",
       "      <td>0</td>\n",
       "      <td>0</td>\n",
       "      <td>0</td>\n",
       "      <td>\"Wilensky's\"</td>\n",
       "      <td>...</td>\n",
       "      <td>45.5233326</td>\n",
       "      <td>-73.5948595</td>\n",
       "      <td>4.0</td>\n",
       "      <td>84.0</td>\n",
       "      <td>1.0</td>\n",
       "      <td>Diners;Food;Restaurants;Delis</td>\n",
       "      <td>Super simple place but amazing nonetheless Its...</td>\n",
       "      <td>['super', 'simple', 'place', 'but', 'amazing',...</td>\n",
       "      <td>['super', 'simple', 'place', 'amazing', 'nonet...</td>\n",
       "      <td>[Diners, Food, Restaurants, Delis]</td>\n",
       "    </tr>\n",
       "    <tr>\n",
       "      <th>1</th>\n",
       "      <td>n6QzIUObkYshz4dz2QRJTw</td>\n",
       "      <td>bv2nCi5Qv5vroFiqKGopiw</td>\n",
       "      <td>VR6GpWIda3SfvPC-lg9H3w</td>\n",
       "      <td>5</td>\n",
       "      <td>2016-05-28</td>\n",
       "      <td>Small unassuming place that changes their menu...</td>\n",
       "      <td>0</td>\n",
       "      <td>0</td>\n",
       "      <td>0</td>\n",
       "      <td>\"Tuck Shop\"</td>\n",
       "      <td>...</td>\n",
       "      <td>45.4729019</td>\n",
       "      <td>-73.58832120000001</td>\n",
       "      <td>4.5</td>\n",
       "      <td>50.0</td>\n",
       "      <td>1.0</td>\n",
       "      <td>Restaurants;Canadian (New);Italian</td>\n",
       "      <td>Small unassuming place that changes their menu...</td>\n",
       "      <td>['small', 'unassuming', 'place', 'that', 'chan...</td>\n",
       "      <td>['small', 'unassuming', 'place', 'changes', 'm...</td>\n",
       "      <td>[Restaurants, Canadian (New), Italian]</td>\n",
       "    </tr>\n",
       "    <tr>\n",
       "      <th>2</th>\n",
       "      <td>MV3CcKScW05u5LVfF6ok0g</td>\n",
       "      <td>bv2nCi5Qv5vroFiqKGopiw</td>\n",
       "      <td>CKC0-MOWMqoeWf6s-szl8g</td>\n",
       "      <td>5</td>\n",
       "      <td>2016-05-28</td>\n",
       "      <td>Lester's is located in a beautiful neighborhoo...</td>\n",
       "      <td>0</td>\n",
       "      <td>0</td>\n",
       "      <td>0</td>\n",
       "      <td>\"Lester's Deli\"</td>\n",
       "      <td>...</td>\n",
       "      <td>45.522144</td>\n",
       "      <td>-73.607076</td>\n",
       "      <td>4.0</td>\n",
       "      <td>70.0</td>\n",
       "      <td>1.0</td>\n",
       "      <td>Specialty Food;Food;Sandwiches;Restaurants;Bur...</td>\n",
       "      <td>Lesters is located in a beautiful neighborhood...</td>\n",
       "      <td>['lesters', 'is', 'located', 'in', 'a', 'beaut...</td>\n",
       "      <td>['lesters', 'located', 'beautiful', 'neighborh...</td>\n",
       "      <td>[Specialty Food, Food, Sandwiches, Restaurants...</td>\n",
       "    </tr>\n",
       "    <tr>\n",
       "      <th>3</th>\n",
       "      <td>IXvOzsEMYtiJI0CARmj77Q</td>\n",
       "      <td>bv2nCi5Qv5vroFiqKGopiw</td>\n",
       "      <td>ACFtxLv8pGrrxMm6EgjreA</td>\n",
       "      <td>4</td>\n",
       "      <td>2016-05-28</td>\n",
       "      <td>Love coming here. Yes the place always needs t...</td>\n",
       "      <td>0</td>\n",
       "      <td>0</td>\n",
       "      <td>0</td>\n",
       "      <td>\"Five Guys\"</td>\n",
       "      <td>...</td>\n",
       "      <td>45.5025101</td>\n",
       "      <td>-73.5701189</td>\n",
       "      <td>3.5</td>\n",
       "      <td>61.0</td>\n",
       "      <td>1.0</td>\n",
       "      <td>Fast Food;Restaurants;Burgers</td>\n",
       "      <td>Love coming here Yes the place always needs th...</td>\n",
       "      <td>['love', 'coming', 'here', 'yes', 'the', 'plac...</td>\n",
       "      <td>['love', 'coming', 'yes', 'place', 'always', '...</td>\n",
       "      <td>[Fast Food, Restaurants, Burgers]</td>\n",
       "    </tr>\n",
       "    <tr>\n",
       "      <th>4</th>\n",
       "      <td>L_9BTb55X0GDtThi6GlZ6w</td>\n",
       "      <td>bv2nCi5Qv5vroFiqKGopiw</td>\n",
       "      <td>s2I_Ni76bjJNK9yG60iD-Q</td>\n",
       "      <td>4</td>\n",
       "      <td>2016-05-28</td>\n",
       "      <td>Had their chocolate almond croissant and it wa...</td>\n",
       "      <td>0</td>\n",
       "      <td>0</td>\n",
       "      <td>0</td>\n",
       "      <td>\"Maison Christian Faure\"</td>\n",
       "      <td>...</td>\n",
       "      <td>45.503544399999996</td>\n",
       "      <td>-73.55446859999999</td>\n",
       "      <td>4.5</td>\n",
       "      <td>397.0</td>\n",
       "      <td>1.0</td>\n",
       "      <td>Bakeries;Restaurants;Food;Sandwiches;Cafes;Cof...</td>\n",
       "      <td>Had their chocolate almond croissant and it wa...</td>\n",
       "      <td>['had', 'their', 'chocolate', 'almond', 'crois...</td>\n",
       "      <td>['chocolate', 'almond', 'croissant', 'amazing'...</td>\n",
       "      <td>[Bakeries, Restaurants, Food, Sandwiches, Cafe...</td>\n",
       "    </tr>\n",
       "  </tbody>\n",
       "</table>\n",
       "<p>5 rows × 25 columns</p>\n",
       "</div>"
      ],
      "text/plain": [
       "                review_id                 user_id             business_id  \\\n",
       "0  vkVSCC7xljjrAI4UGfnKEQ  bv2nCi5Qv5vroFiqKGopiw  AEx2SYEUJmTxVVB18LlCwA   \n",
       "1  n6QzIUObkYshz4dz2QRJTw  bv2nCi5Qv5vroFiqKGopiw  VR6GpWIda3SfvPC-lg9H3w   \n",
       "2  MV3CcKScW05u5LVfF6ok0g  bv2nCi5Qv5vroFiqKGopiw  CKC0-MOWMqoeWf6s-szl8g   \n",
       "3  IXvOzsEMYtiJI0CARmj77Q  bv2nCi5Qv5vroFiqKGopiw  ACFtxLv8pGrrxMm6EgjreA   \n",
       "4  L_9BTb55X0GDtThi6GlZ6w  bv2nCi5Qv5vroFiqKGopiw  s2I_Ni76bjJNK9yG60iD-Q   \n",
       "\n",
       "  review_rating        date  \\\n",
       "0             5  2016-05-28   \n",
       "1             5  2016-05-28   \n",
       "2             5  2016-05-28   \n",
       "3             4  2016-05-28   \n",
       "4             4  2016-05-28   \n",
       "\n",
       "                                                text useful funny cool  \\\n",
       "0  Super simple place but amazing nonetheless. It...      0     0    0   \n",
       "1  Small unassuming place that changes their menu...      0     0    0   \n",
       "2  Lester's is located in a beautiful neighborhoo...      0     0    0   \n",
       "3  Love coming here. Yes the place always needs t...      0     0    0   \n",
       "4  Had their chocolate almond croissant and it wa...      0     0    0   \n",
       "\n",
       "                       name  \\\n",
       "0              \"Wilensky's\"   \n",
       "1               \"Tuck Shop\"   \n",
       "2           \"Lester's Deli\"   \n",
       "3               \"Five Guys\"   \n",
       "4  \"Maison Christian Faure\"   \n",
       "\n",
       "                         ...                                    latitude  \\\n",
       "0                        ...                                  45.5233326   \n",
       "1                        ...                                  45.4729019   \n",
       "2                        ...                                   45.522144   \n",
       "3                        ...                                  45.5025101   \n",
       "4                        ...                          45.503544399999996   \n",
       "\n",
       "            longitude stars review_count is_open  \\\n",
       "0         -73.5948595   4.0         84.0     1.0   \n",
       "1  -73.58832120000001   4.5         50.0     1.0   \n",
       "2          -73.607076   4.0         70.0     1.0   \n",
       "3         -73.5701189   3.5         61.0     1.0   \n",
       "4  -73.55446859999999   4.5        397.0     1.0   \n",
       "\n",
       "                                          categories  \\\n",
       "0                      Diners;Food;Restaurants;Delis   \n",
       "1                 Restaurants;Canadian (New);Italian   \n",
       "2  Specialty Food;Food;Sandwiches;Restaurants;Bur...   \n",
       "3                      Fast Food;Restaurants;Burgers   \n",
       "4  Bakeries;Restaurants;Food;Sandwiches;Cafes;Cof...   \n",
       "\n",
       "                                        text_nopunct  \\\n",
       "0  Super simple place but amazing nonetheless Its...   \n",
       "1  Small unassuming place that changes their menu...   \n",
       "2  Lesters is located in a beautiful neighborhood...   \n",
       "3  Love coming here Yes the place always needs th...   \n",
       "4  Had their chocolate almond croissant and it wa...   \n",
       "\n",
       "                                          text_lower  \\\n",
       "0  ['super', 'simple', 'place', 'but', 'amazing',...   \n",
       "1  ['small', 'unassuming', 'place', 'that', 'chan...   \n",
       "2  ['lesters', 'is', 'located', 'in', 'a', 'beaut...   \n",
       "3  ['love', 'coming', 'here', 'yes', 'the', 'plac...   \n",
       "4  ['had', 'their', 'chocolate', 'almond', 'crois...   \n",
       "\n",
       "                                    text_nostopwords  \\\n",
       "0  ['super', 'simple', 'place', 'amazing', 'nonet...   \n",
       "1  ['small', 'unassuming', 'place', 'changes', 'm...   \n",
       "2  ['lesters', 'located', 'beautiful', 'neighborh...   \n",
       "3  ['love', 'coming', 'yes', 'place', 'always', '...   \n",
       "4  ['chocolate', 'almond', 'croissant', 'amazing'...   \n",
       "\n",
       "                                            cat_list  \n",
       "0                 [Diners, Food, Restaurants, Delis]  \n",
       "1             [Restaurants, Canadian (New), Italian]  \n",
       "2  [Specialty Food, Food, Sandwiches, Restaurants...  \n",
       "3                  [Fast Food, Restaurants, Burgers]  \n",
       "4  [Bakeries, Restaurants, Food, Sandwiches, Cafe...  \n",
       "\n",
       "[5 rows x 25 columns]"
      ]
     },
     "execution_count": 24,
     "metadata": {},
     "output_type": "execute_result"
    }
   ],
   "source": [
    "df.head()"
   ]
  },
  {
   "cell_type": "code",
   "execution_count": null,
   "metadata": {},
   "outputs": [],
   "source": [
    "df = df.dropna(subset = ['categories'])"
   ]
  },
  {
   "cell_type": "code",
   "execution_count": 23,
   "metadata": {},
   "outputs": [
    {
     "data": {
      "text/html": [
       "<div>\n",
       "<style scoped>\n",
       "    .dataframe tbody tr th:only-of-type {\n",
       "        vertical-align: middle;\n",
       "    }\n",
       "\n",
       "    .dataframe tbody tr th {\n",
       "        vertical-align: top;\n",
       "    }\n",
       "\n",
       "    .dataframe thead th {\n",
       "        text-align: right;\n",
       "    }\n",
       "</style>\n",
       "<table border=\"1\" class=\"dataframe\">\n",
       "  <thead>\n",
       "    <tr style=\"text-align: right;\">\n",
       "      <th></th>\n",
       "      <th>Categories</th>\n",
       "      <th>SubCategories</th>\n",
       "    </tr>\n",
       "  </thead>\n",
       "  <tbody>\n",
       "    <tr>\n",
       "      <th>0</th>\n",
       "      <td>Active Life</td>\n",
       "      <td>ATV Rentals/Tours</td>\n",
       "    </tr>\n",
       "    <tr>\n",
       "      <th>1</th>\n",
       "      <td>Active Life</td>\n",
       "      <td>Airsoft</td>\n",
       "    </tr>\n",
       "    <tr>\n",
       "      <th>2</th>\n",
       "      <td>Active Life</td>\n",
       "      <td>Amateur Sports Teams</td>\n",
       "    </tr>\n",
       "    <tr>\n",
       "      <th>3</th>\n",
       "      <td>Active Life</td>\n",
       "      <td>Amusement Parks</td>\n",
       "    </tr>\n",
       "    <tr>\n",
       "      <th>4</th>\n",
       "      <td>Active Life</td>\n",
       "      <td>Aquariums</td>\n",
       "    </tr>\n",
       "  </tbody>\n",
       "</table>\n",
       "</div>"
      ],
      "text/plain": [
       "    Categories         SubCategories\n",
       "0  Active Life     ATV Rentals/Tours\n",
       "1  Active Life               Airsoft\n",
       "2  Active Life  Amateur Sports Teams\n",
       "3  Active Life       Amusement Parks\n",
       "4  Active Life             Aquariums"
      ]
     },
     "execution_count": 23,
     "metadata": {},
     "output_type": "execute_result"
    }
   ],
   "source": [
    "ref = pd.read_excel(\"Category_List.xlsx\")\n",
    "ref.head()"
   ]
  },
  {
   "cell_type": "code",
   "execution_count": 55,
   "metadata": {
    "scrolled": true
   },
   "outputs": [
    {
     "data": {
      "text/html": [
       "<div>\n",
       "<style scoped>\n",
       "    .dataframe tbody tr th:only-of-type {\n",
       "        vertical-align: middle;\n",
       "    }\n",
       "\n",
       "    .dataframe tbody tr th {\n",
       "        vertical-align: top;\n",
       "    }\n",
       "\n",
       "    .dataframe thead th {\n",
       "        text-align: right;\n",
       "    }\n",
       "</style>\n",
       "<table border=\"1\" class=\"dataframe\">\n",
       "  <thead>\n",
       "    <tr style=\"text-align: right;\">\n",
       "      <th></th>\n",
       "      <th>Categories</th>\n",
       "      <th>SubCategories</th>\n",
       "    </tr>\n",
       "  </thead>\n",
       "  <tbody>\n",
       "    <tr>\n",
       "      <th>0</th>\n",
       "      <td>Active Life</td>\n",
       "      <td>ATV Rentals/Tours, Airsoft, Amateur Sports Tea...</td>\n",
       "    </tr>\n",
       "    <tr>\n",
       "      <th>1</th>\n",
       "      <td>Arts &amp; Entertainment</td>\n",
       "      <td>Arcades, Art Galleries, Bingo Halls, Botanical...</td>\n",
       "    </tr>\n",
       "    <tr>\n",
       "      <th>2</th>\n",
       "      <td>Automotive</td>\n",
       "      <td>Aircraft Dealers, Aircraft Repairs, Auto Custo...</td>\n",
       "    </tr>\n",
       "    <tr>\n",
       "      <th>3</th>\n",
       "      <td>Beauty &amp; Spas</td>\n",
       "      <td>Acne Treatment, Barbers, Cosmetics &amp; Beauty Su...</td>\n",
       "    </tr>\n",
       "    <tr>\n",
       "      <th>4</th>\n",
       "      <td>Education</td>\n",
       "      <td>Adult Education, Art Classes, Glass Blowing, C...</td>\n",
       "    </tr>\n",
       "  </tbody>\n",
       "</table>\n",
       "</div>"
      ],
      "text/plain": [
       "             Categories                                      SubCategories\n",
       "0           Active Life  ATV Rentals/Tours, Airsoft, Amateur Sports Tea...\n",
       "1  Arts & Entertainment  Arcades, Art Galleries, Bingo Halls, Botanical...\n",
       "2            Automotive  Aircraft Dealers, Aircraft Repairs, Auto Custo...\n",
       "3         Beauty & Spas  Acne Treatment, Barbers, Cosmetics & Beauty Su...\n",
       "4             Education  Adult Education, Art Classes, Glass Blowing, C..."
      ]
     },
     "execution_count": 55,
     "metadata": {},
     "output_type": "execute_result"
    }
   ],
   "source": [
    "ref = ref.groupby(ref.Categories)['SubCategories'].agg(lambda col: ', '.join(col))\n",
    "ref = pd.DataFrame(ref)\n",
    "ref=ref.reset_index()\n",
    "ref.head() \n",
    "# cover this categories into dictionary \n",
    "\n",
    "# ref.set_index('Categories').T.to_dict('list')"
   ]
  },
  {
   "cell_type": "code",
   "execution_count": 61,
   "metadata": {},
   "outputs": [],
   "source": [
    "# ref.iloc[:, 0] # categories \n",
    "# ref.iloc[:,1] # subcategories"
   ]
  },
  {
   "cell_type": "code",
   "execution_count": 56,
   "metadata": {},
   "outputs": [],
   "source": [
    "Reference = {}\n",
    "\n",
    "for i in range(ref.shape[0]):\n",
    "    Reference[ref.iloc[i,0]] = ref.iloc[i,1].split(\", \")"
   ]
  },
  {
   "cell_type": "code",
   "execution_count": null,
   "metadata": {},
   "outputs": [],
   "source": []
  },
  {
   "cell_type": "code",
   "execution_count": 68,
   "metadata": {},
   "outputs": [
    {
     "data": {
      "text/plain": [
       "0                   [Diners, Food, Restaurants, Delis]\n",
       "1               [Restaurants, Canadian (New), Italian]\n",
       "2    [Specialty Food, Food, Sandwiches, Restaurants...\n",
       "3                    [Fast Food, Restaurants, Burgers]\n",
       "4    [Bakeries, Restaurants, Food, Sandwiches, Cafe...\n",
       "Name: cat_list, dtype: object"
      ]
     },
     "execution_count": 68,
     "metadata": {},
     "output_type": "execute_result"
    }
   ],
   "source": [
    "## drop off any row which categories is nan \n",
    "\n",
    "df['cat_list'] = [i.split(\";\") for i in df.categories]\n",
    "df.cat_list[:5]"
   ]
  },
  {
   "cell_type": "code",
   "execution_count": 69,
   "metadata": {
    "scrolled": true
   },
   "outputs": [],
   "source": [
    "def cat_frequency(cell):\n",
    "    ## create a dic with all the keys in Reference but values are all 0 \n",
    "    newDict = {key: 0 for key in Reference.keys()}\n",
    "    for i in cell:\n",
    "        for j in Reference:\n",
    "            if i in Reference[j]:\n",
    "                ## then if the cat in df shows up in the reference values, the value of new dic plus 1 \n",
    "                newDict[j] = newDict[j] + 1 \n",
    "            else:\n",
    "                continue\n",
    "    return newDict\n",
    "\n",
    "\n",
    "df['cat_freq'] = list(map(cat_frequency, df.cat_list))\n"
   ]
  },
  {
   "cell_type": "code",
   "execution_count": 70,
   "metadata": {},
   "outputs": [
    {
     "data": {
      "text/plain": [
       "0    {'Active Life': 0, 'Arts & Entertainment': 0, ...\n",
       "1    {'Active Life': 0, 'Arts & Entertainment': 0, ...\n",
       "2    {'Active Life': 0, 'Arts & Entertainment': 0, ...\n",
       "3    {'Active Life': 0, 'Arts & Entertainment': 0, ...\n",
       "4    {'Active Life': 0, 'Arts & Entertainment': 0, ...\n",
       "Name: cat_freq, dtype: object"
      ]
     },
     "execution_count": 70,
     "metadata": {},
     "output_type": "execute_result"
    }
   ],
   "source": [
    "df.cat_freq[:5]"
   ]
  },
  {
   "cell_type": "markdown",
   "metadata": {},
   "source": [
    "##"
   ]
  },
  {
   "cell_type": "code",
   "execution_count": 71,
   "metadata": {},
   "outputs": [],
   "source": [
    "def find_freq_cat(cell):\n",
    "        return max(cell, key=lambda k: cell[k])\n",
    "\n",
    "df['cat_max'] = list(map(find_freq_cat,df.cat_freq))"
   ]
  },
  {
   "cell_type": "code",
   "execution_count": null,
   "metadata": {},
   "outputs": [],
   "source": []
  },
  {
   "cell_type": "code",
   "execution_count": 73,
   "metadata": {},
   "outputs": [],
   "source": [
    "df = df[['review_id', 'user_id', 'business_id', 'review_rating', 'date', 'text',\n",
    "       'useful', 'funny', 'cool', 'name', 'neighborhood', 'address', 'city',\n",
    "       'state', 'postal_code', 'latitude', 'longitude', 'stars',\n",
    "       'review_count', 'is_open', 'cat_max', 'text_nopunct', 'text_lower',\n",
    "       'text_nostopwords']] "
   ]
  },
  {
   "cell_type": "code",
   "execution_count": 74,
   "metadata": {},
   "outputs": [
    {
     "data": {
      "text/plain": [
       "Restaurants                     499515\n",
       "Nightlife                       144058\n",
       "Food                             80912\n",
       "Hotels & Travel                  56676\n",
       "Shopping                         47322\n",
       "Beauty & Spas                    44631\n",
       "Arts & Entertainment             21349\n",
       "Automotive                       18261\n",
       "Active Life                      17741\n",
       "Health & Medical                 17255\n",
       "Local Services                   11896\n",
       "Event Planning & Services         7927\n",
       "Home Services                     7831\n",
       "Pets                              7508\n",
       "Real Estate                       5914\n",
       "Professional Services             3124\n",
       "Public Services & Government      3067\n",
       "Financial Services                1931\n",
       "Education                         1742\n",
       "Local Flavor                       620\n",
       "Religious Organizations            530\n",
       "Mass Media                         181\n",
       "Name: category, dtype: int64"
      ]
     },
     "execution_count": 74,
     "metadata": {},
     "output_type": "execute_result"
    }
   ],
   "source": [
    "# df.head(5)\n",
    "df.rename(columns = {'cat_max':'category'}, inplace = True)\n",
    "df.category.value_counts()\n",
    "# df.to_csv(\"CleanedYelpData_new.csv\", encoding='utf-8', index=False)"
   ]
  },
  {
   "cell_type": "code",
   "execution_count": 75,
   "metadata": {},
   "outputs": [],
   "source": [
    "df_cate = df.category.value_counts().to_frame().reset_index()\n",
    "df_cate.rename(columns = {'index':'category', 'category':'number_of_review'}, inplace = True)\n",
    "df_cate.to_csv('category.csv')"
   ]
  },
  {
   "cell_type": "code",
   "execution_count": 93,
   "metadata": {},
   "outputs": [],
   "source": [
    "df_restaunt = df[df.category == 'Restaurants']\n",
    "df_Nightlife = df[df.category =='Nightlife']\n",
    "df_Food = df[df.category =='Food']\n",
    "df_hotel = df[df.category=='Hotels & Travel']\n",
    "df_shopping=df[df.category=='Shopping']"
   ]
  },
  {
   "cell_type": "code",
   "execution_count": null,
   "metadata": {},
   "outputs": [],
   "source": []
  },
  {
   "cell_type": "code",
   "execution_count": 87,
   "metadata": {},
   "outputs": [],
   "source": [
    "df_restaunt.to_csv('restaunt.csv')"
   ]
  },
  {
   "cell_type": "markdown",
   "metadata": {},
   "source": [
    "## Use df_restaunt for the restaurnt prediction "
   ]
  },
  {
   "cell_type": "code",
   "execution_count": 97,
   "metadata": {
    "scrolled": false
   },
   "outputs": [
    {
     "name": "stdout",
     "output_type": "stream",
     "text": [
      "5    185794\n",
      "4    142855\n",
      "3     72701\n",
      "1     51082\n",
      "2     47083\n",
      "Name: review_rating, dtype: int64\n",
      "(499515, 24)\n"
     ]
    }
   ],
   "source": [
    "\n",
    "print(df_restaunt.review_rating.value_counts())\n",
    "print(df_restaunt.shape)"
   ]
  },
  {
   "cell_type": "code",
   "execution_count": 6,
   "metadata": {},
   "outputs": [],
   "source": [
    "df_restaunt = pd.read_csv('restaunt.csv')"
   ]
  },
  {
   "cell_type": "code",
   "execution_count": 3,
   "metadata": {
    "scrolled": true
   },
   "outputs": [
    {
     "data": {
      "text/plain": [
       "Index(['Unnamed: 0', 'review_id', 'user_id', 'business_id', 'review_rating',\n",
       "       'date', 'text', 'useful', 'funny', 'cool', 'name', 'neighborhood',\n",
       "       'address', 'city', 'state', 'postal_code', 'latitude', 'longitude',\n",
       "       'stars', 'review_count', 'is_open', 'category', 'text_nopunct',\n",
       "       'text_lower', 'text_nostopwords'],\n",
       "      dtype='object')"
      ]
     },
     "execution_count": 3,
     "metadata": {},
     "output_type": "execute_result"
    }
   ],
   "source": [
    "df_restaunt.columns"
   ]
  },
  {
   "cell_type": "code",
   "execution_count": 4,
   "metadata": {
    "scrolled": false
   },
   "outputs": [],
   "source": [
    "df_r = df_restaunt[['review_id', 'review_rating', 'date', 'text',\n",
    "        'text_nopunct', 'text_lower',\n",
    "       'text_nostopwords', 'review_count']]"
   ]
  },
  {
   "cell_type": "code",
   "execution_count": 7,
   "metadata": {
    "scrolled": true
   },
   "outputs": [
    {
     "data": {
      "text/html": [
       "<div>\n",
       "<style scoped>\n",
       "    .dataframe tbody tr th:only-of-type {\n",
       "        vertical-align: middle;\n",
       "    }\n",
       "\n",
       "    .dataframe tbody tr th {\n",
       "        vertical-align: top;\n",
       "    }\n",
       "\n",
       "    .dataframe thead th {\n",
       "        text-align: right;\n",
       "    }\n",
       "</style>\n",
       "<table border=\"1\" class=\"dataframe\">\n",
       "  <thead>\n",
       "    <tr style=\"text-align: right;\">\n",
       "      <th></th>\n",
       "      <th>Unnamed: 0</th>\n",
       "      <th>review_id</th>\n",
       "      <th>user_id</th>\n",
       "      <th>business_id</th>\n",
       "      <th>review_rating</th>\n",
       "      <th>date</th>\n",
       "      <th>text</th>\n",
       "      <th>useful</th>\n",
       "      <th>funny</th>\n",
       "      <th>cool</th>\n",
       "      <th>...</th>\n",
       "      <th>postal_code</th>\n",
       "      <th>latitude</th>\n",
       "      <th>longitude</th>\n",
       "      <th>stars</th>\n",
       "      <th>review_count</th>\n",
       "      <th>is_open</th>\n",
       "      <th>category</th>\n",
       "      <th>text_nopunct</th>\n",
       "      <th>text_lower</th>\n",
       "      <th>text_nostopwords</th>\n",
       "    </tr>\n",
       "  </thead>\n",
       "  <tbody>\n",
       "    <tr>\n",
       "      <th>0</th>\n",
       "      <td>0</td>\n",
       "      <td>vkVSCC7xljjrAI4UGfnKEQ</td>\n",
       "      <td>bv2nCi5Qv5vroFiqKGopiw</td>\n",
       "      <td>AEx2SYEUJmTxVVB18LlCwA</td>\n",
       "      <td>5</td>\n",
       "      <td>2016-05-28</td>\n",
       "      <td>Super simple place but amazing nonetheless. It...</td>\n",
       "      <td>0</td>\n",
       "      <td>0</td>\n",
       "      <td>0</td>\n",
       "      <td>...</td>\n",
       "      <td>H2T 2M1</td>\n",
       "      <td>45.523333</td>\n",
       "      <td>-73.594859</td>\n",
       "      <td>4.0</td>\n",
       "      <td>84.0</td>\n",
       "      <td>1.0</td>\n",
       "      <td>Restaurants</td>\n",
       "      <td>Super simple place but amazing nonetheless Its...</td>\n",
       "      <td>['super', 'simple', 'place', 'but', 'amazing',...</td>\n",
       "      <td>['super', 'simple', 'place', 'amazing', 'nonet...</td>\n",
       "    </tr>\n",
       "    <tr>\n",
       "      <th>1</th>\n",
       "      <td>1</td>\n",
       "      <td>n6QzIUObkYshz4dz2QRJTw</td>\n",
       "      <td>bv2nCi5Qv5vroFiqKGopiw</td>\n",
       "      <td>VR6GpWIda3SfvPC-lg9H3w</td>\n",
       "      <td>5</td>\n",
       "      <td>2016-05-28</td>\n",
       "      <td>Small unassuming place that changes their menu...</td>\n",
       "      <td>0</td>\n",
       "      <td>0</td>\n",
       "      <td>0</td>\n",
       "      <td>...</td>\n",
       "      <td>H4C 1S7</td>\n",
       "      <td>45.472902</td>\n",
       "      <td>-73.588321</td>\n",
       "      <td>4.5</td>\n",
       "      <td>50.0</td>\n",
       "      <td>1.0</td>\n",
       "      <td>Restaurants</td>\n",
       "      <td>Small unassuming place that changes their menu...</td>\n",
       "      <td>['small', 'unassuming', 'place', 'that', 'chan...</td>\n",
       "      <td>['small', 'unassuming', 'place', 'changes', 'm...</td>\n",
       "    </tr>\n",
       "    <tr>\n",
       "      <th>2</th>\n",
       "      <td>2</td>\n",
       "      <td>MV3CcKScW05u5LVfF6ok0g</td>\n",
       "      <td>bv2nCi5Qv5vroFiqKGopiw</td>\n",
       "      <td>CKC0-MOWMqoeWf6s-szl8g</td>\n",
       "      <td>5</td>\n",
       "      <td>2016-05-28</td>\n",
       "      <td>Lester's is located in a beautiful neighborhoo...</td>\n",
       "      <td>0</td>\n",
       "      <td>0</td>\n",
       "      <td>0</td>\n",
       "      <td>...</td>\n",
       "      <td>H2V 1V1</td>\n",
       "      <td>45.522144</td>\n",
       "      <td>-73.607076</td>\n",
       "      <td>4.0</td>\n",
       "      <td>70.0</td>\n",
       "      <td>1.0</td>\n",
       "      <td>Restaurants</td>\n",
       "      <td>Lesters is located in a beautiful neighborhood...</td>\n",
       "      <td>['lesters', 'is', 'located', 'in', 'a', 'beaut...</td>\n",
       "      <td>['lesters', 'located', 'beautiful', 'neighborh...</td>\n",
       "    </tr>\n",
       "    <tr>\n",
       "      <th>3</th>\n",
       "      <td>3</td>\n",
       "      <td>IXvOzsEMYtiJI0CARmj77Q</td>\n",
       "      <td>bv2nCi5Qv5vroFiqKGopiw</td>\n",
       "      <td>ACFtxLv8pGrrxMm6EgjreA</td>\n",
       "      <td>4</td>\n",
       "      <td>2016-05-28</td>\n",
       "      <td>Love coming here. Yes the place always needs t...</td>\n",
       "      <td>0</td>\n",
       "      <td>0</td>\n",
       "      <td>0</td>\n",
       "      <td>...</td>\n",
       "      <td>H3B 1B9</td>\n",
       "      <td>45.502510</td>\n",
       "      <td>-73.570119</td>\n",
       "      <td>3.5</td>\n",
       "      <td>61.0</td>\n",
       "      <td>1.0</td>\n",
       "      <td>Restaurants</td>\n",
       "      <td>Love coming here Yes the place always needs th...</td>\n",
       "      <td>['love', 'coming', 'here', 'yes', 'the', 'plac...</td>\n",
       "      <td>['love', 'coming', 'yes', 'place', 'always', '...</td>\n",
       "    </tr>\n",
       "    <tr>\n",
       "      <th>4</th>\n",
       "      <td>4</td>\n",
       "      <td>L_9BTb55X0GDtThi6GlZ6w</td>\n",
       "      <td>bv2nCi5Qv5vroFiqKGopiw</td>\n",
       "      <td>s2I_Ni76bjJNK9yG60iD-Q</td>\n",
       "      <td>4</td>\n",
       "      <td>2016-05-28</td>\n",
       "      <td>Had their chocolate almond croissant and it wa...</td>\n",
       "      <td>0</td>\n",
       "      <td>0</td>\n",
       "      <td>0</td>\n",
       "      <td>...</td>\n",
       "      <td>H2Y 1Z6</td>\n",
       "      <td>45.503544</td>\n",
       "      <td>-73.554469</td>\n",
       "      <td>4.5</td>\n",
       "      <td>397.0</td>\n",
       "      <td>1.0</td>\n",
       "      <td>Restaurants</td>\n",
       "      <td>Had their chocolate almond croissant and it wa...</td>\n",
       "      <td>['had', 'their', 'chocolate', 'almond', 'crois...</td>\n",
       "      <td>['chocolate', 'almond', 'croissant', 'amazing'...</td>\n",
       "    </tr>\n",
       "  </tbody>\n",
       "</table>\n",
       "<p>5 rows × 25 columns</p>\n",
       "</div>"
      ],
      "text/plain": [
       "   Unnamed: 0               review_id                 user_id  \\\n",
       "0           0  vkVSCC7xljjrAI4UGfnKEQ  bv2nCi5Qv5vroFiqKGopiw   \n",
       "1           1  n6QzIUObkYshz4dz2QRJTw  bv2nCi5Qv5vroFiqKGopiw   \n",
       "2           2  MV3CcKScW05u5LVfF6ok0g  bv2nCi5Qv5vroFiqKGopiw   \n",
       "3           3  IXvOzsEMYtiJI0CARmj77Q  bv2nCi5Qv5vroFiqKGopiw   \n",
       "4           4  L_9BTb55X0GDtThi6GlZ6w  bv2nCi5Qv5vroFiqKGopiw   \n",
       "\n",
       "              business_id  review_rating        date  \\\n",
       "0  AEx2SYEUJmTxVVB18LlCwA              5  2016-05-28   \n",
       "1  VR6GpWIda3SfvPC-lg9H3w              5  2016-05-28   \n",
       "2  CKC0-MOWMqoeWf6s-szl8g              5  2016-05-28   \n",
       "3  ACFtxLv8pGrrxMm6EgjreA              4  2016-05-28   \n",
       "4  s2I_Ni76bjJNK9yG60iD-Q              4  2016-05-28   \n",
       "\n",
       "                                                text  useful  funny  cool  \\\n",
       "0  Super simple place but amazing nonetheless. It...       0      0     0   \n",
       "1  Small unassuming place that changes their menu...       0      0     0   \n",
       "2  Lester's is located in a beautiful neighborhoo...       0      0     0   \n",
       "3  Love coming here. Yes the place always needs t...       0      0     0   \n",
       "4  Had their chocolate almond croissant and it wa...       0      0     0   \n",
       "\n",
       "                         ...                         postal_code   latitude  \\\n",
       "0                        ...                             H2T 2M1  45.523333   \n",
       "1                        ...                             H4C 1S7  45.472902   \n",
       "2                        ...                             H2V 1V1  45.522144   \n",
       "3                        ...                             H3B 1B9  45.502510   \n",
       "4                        ...                             H2Y 1Z6  45.503544   \n",
       "\n",
       "   longitude stars review_count is_open     category  \\\n",
       "0 -73.594859   4.0         84.0     1.0  Restaurants   \n",
       "1 -73.588321   4.5         50.0     1.0  Restaurants   \n",
       "2 -73.607076   4.0         70.0     1.0  Restaurants   \n",
       "3 -73.570119   3.5         61.0     1.0  Restaurants   \n",
       "4 -73.554469   4.5        397.0     1.0  Restaurants   \n",
       "\n",
       "                                        text_nopunct  \\\n",
       "0  Super simple place but amazing nonetheless Its...   \n",
       "1  Small unassuming place that changes their menu...   \n",
       "2  Lesters is located in a beautiful neighborhood...   \n",
       "3  Love coming here Yes the place always needs th...   \n",
       "4  Had their chocolate almond croissant and it wa...   \n",
       "\n",
       "                                          text_lower  \\\n",
       "0  ['super', 'simple', 'place', 'but', 'amazing',...   \n",
       "1  ['small', 'unassuming', 'place', 'that', 'chan...   \n",
       "2  ['lesters', 'is', 'located', 'in', 'a', 'beaut...   \n",
       "3  ['love', 'coming', 'here', 'yes', 'the', 'plac...   \n",
       "4  ['had', 'their', 'chocolate', 'almond', 'crois...   \n",
       "\n",
       "                                    text_nostopwords  \n",
       "0  ['super', 'simple', 'place', 'amazing', 'nonet...  \n",
       "1  ['small', 'unassuming', 'place', 'changes', 'm...  \n",
       "2  ['lesters', 'located', 'beautiful', 'neighborh...  \n",
       "3  ['love', 'coming', 'yes', 'place', 'always', '...  \n",
       "4  ['chocolate', 'almond', 'croissant', 'amazing'...  \n",
       "\n",
       "[5 rows x 25 columns]"
      ]
     },
     "execution_count": 7,
     "metadata": {},
     "output_type": "execute_result"
    }
   ],
   "source": [
    "df_r.head()"
   ]
  },
  {
   "cell_type": "code",
   "execution_count": 25,
   "metadata": {
    "scrolled": true
   },
   "outputs": [
    {
     "data": {
      "text/html": [
       "<div>\n",
       "<style scoped>\n",
       "    .dataframe tbody tr th:only-of-type {\n",
       "        vertical-align: middle;\n",
       "    }\n",
       "\n",
       "    .dataframe tbody tr th {\n",
       "        vertical-align: top;\n",
       "    }\n",
       "\n",
       "    .dataframe thead th {\n",
       "        text-align: right;\n",
       "    }\n",
       "</style>\n",
       "<table border=\"1\" class=\"dataframe\">\n",
       "  <thead>\n",
       "    <tr style=\"text-align: right;\">\n",
       "      <th></th>\n",
       "      <th>Unnamed: 0_x</th>\n",
       "      <th>review_id</th>\n",
       "      <th>Topic_1</th>\n",
       "      <th>Topic_2</th>\n",
       "      <th>Topic_3</th>\n",
       "      <th>Topic_4</th>\n",
       "      <th>Topic_5</th>\n",
       "      <th>review_rating_x</th>\n",
       "      <th>date_x</th>\n",
       "      <th>text_x_x</th>\n",
       "      <th>...</th>\n",
       "      <th>postal_code</th>\n",
       "      <th>latitude</th>\n",
       "      <th>longitude</th>\n",
       "      <th>stars</th>\n",
       "      <th>review_count</th>\n",
       "      <th>is_open</th>\n",
       "      <th>category</th>\n",
       "      <th>text_nopunct</th>\n",
       "      <th>text_lower</th>\n",
       "      <th>text_nostopwords</th>\n",
       "    </tr>\n",
       "  </thead>\n",
       "  <tbody>\n",
       "    <tr>\n",
       "      <th>0</th>\n",
       "      <td>0</td>\n",
       "      <td>vkVSCC7xljjrAI4UGfnKEQ</td>\n",
       "      <td>0.627663</td>\n",
       "      <td>0.052521</td>\n",
       "      <td>0.145661</td>\n",
       "      <td>0.002195</td>\n",
       "      <td>0.171961</td>\n",
       "      <td>5.0</td>\n",
       "      <td>2016-05-28</td>\n",
       "      <td>Super simple place but amazing nonetheless. It...</td>\n",
       "      <td>...</td>\n",
       "      <td>H2T 2M1</td>\n",
       "      <td>45.523333</td>\n",
       "      <td>-73.594859</td>\n",
       "      <td>4.0</td>\n",
       "      <td>84.0</td>\n",
       "      <td>1.0</td>\n",
       "      <td>Restaurants</td>\n",
       "      <td>Super simple place but amazing nonetheless Its...</td>\n",
       "      <td>['super', 'simple', 'place', 'but', 'amazing',...</td>\n",
       "      <td>['super', 'simple', 'place', 'amazing', 'nonet...</td>\n",
       "    </tr>\n",
       "    <tr>\n",
       "      <th>1</th>\n",
       "      <td>1</td>\n",
       "      <td>n6QzIUObkYshz4dz2QRJTw</td>\n",
       "      <td>0.466920</td>\n",
       "      <td>0.110773</td>\n",
       "      <td>0.141278</td>\n",
       "      <td>0.000992</td>\n",
       "      <td>0.280037</td>\n",
       "      <td>5.0</td>\n",
       "      <td>2016-05-28</td>\n",
       "      <td>Small unassuming place that changes their menu...</td>\n",
       "      <td>...</td>\n",
       "      <td>H4C 1S7</td>\n",
       "      <td>45.472902</td>\n",
       "      <td>-73.588321</td>\n",
       "      <td>4.5</td>\n",
       "      <td>50.0</td>\n",
       "      <td>1.0</td>\n",
       "      <td>Restaurants</td>\n",
       "      <td>Small unassuming place that changes their menu...</td>\n",
       "      <td>['small', 'unassuming', 'place', 'that', 'chan...</td>\n",
       "      <td>['small', 'unassuming', 'place', 'changes', 'm...</td>\n",
       "    </tr>\n",
       "    <tr>\n",
       "      <th>2</th>\n",
       "      <td>2</td>\n",
       "      <td>MV3CcKScW05u5LVfF6ok0g</td>\n",
       "      <td>0.814398</td>\n",
       "      <td>0.086540</td>\n",
       "      <td>0.020340</td>\n",
       "      <td>0.001486</td>\n",
       "      <td>0.077236</td>\n",
       "      <td>5.0</td>\n",
       "      <td>2016-05-28</td>\n",
       "      <td>Lester's is located in a beautiful neighborhoo...</td>\n",
       "      <td>...</td>\n",
       "      <td>H2V 1V1</td>\n",
       "      <td>45.522144</td>\n",
       "      <td>-73.607076</td>\n",
       "      <td>4.0</td>\n",
       "      <td>70.0</td>\n",
       "      <td>1.0</td>\n",
       "      <td>Restaurants</td>\n",
       "      <td>Lesters is located in a beautiful neighborhood...</td>\n",
       "      <td>['lesters', 'is', 'located', 'in', 'a', 'beaut...</td>\n",
       "      <td>['lesters', 'located', 'beautiful', 'neighborh...</td>\n",
       "    </tr>\n",
       "  </tbody>\n",
       "</table>\n",
       "<p>3 rows × 45 columns</p>\n",
       "</div>"
      ],
      "text/plain": [
       "   Unnamed: 0_x               review_id   Topic_1   Topic_2   Topic_3  \\\n",
       "0             0  vkVSCC7xljjrAI4UGfnKEQ  0.627663  0.052521  0.145661   \n",
       "1             1  n6QzIUObkYshz4dz2QRJTw  0.466920  0.110773  0.141278   \n",
       "2             2  MV3CcKScW05u5LVfF6ok0g  0.814398  0.086540  0.020340   \n",
       "\n",
       "    Topic_4   Topic_5  review_rating_x      date_x  \\\n",
       "0  0.002195  0.171961              5.0  2016-05-28   \n",
       "1  0.000992  0.280037              5.0  2016-05-28   \n",
       "2  0.001486  0.077236              5.0  2016-05-28   \n",
       "\n",
       "                                            text_x_x  \\\n",
       "0  Super simple place but amazing nonetheless. It...   \n",
       "1  Small unassuming place that changes their menu...   \n",
       "2  Lester's is located in a beautiful neighborhoo...   \n",
       "\n",
       "                         ...                         postal_code   latitude  \\\n",
       "0                        ...                             H2T 2M1  45.523333   \n",
       "1                        ...                             H4C 1S7  45.472902   \n",
       "2                        ...                             H2V 1V1  45.522144   \n",
       "\n",
       "   longitude  stars  review_count  is_open     category  \\\n",
       "0 -73.594859    4.0          84.0      1.0  Restaurants   \n",
       "1 -73.588321    4.5          50.0      1.0  Restaurants   \n",
       "2 -73.607076    4.0          70.0      1.0  Restaurants   \n",
       "\n",
       "                                        text_nopunct  \\\n",
       "0  Super simple place but amazing nonetheless Its...   \n",
       "1  Small unassuming place that changes their menu...   \n",
       "2  Lesters is located in a beautiful neighborhood...   \n",
       "\n",
       "                                          text_lower  \\\n",
       "0  ['super', 'simple', 'place', 'but', 'amazing',...   \n",
       "1  ['small', 'unassuming', 'place', 'that', 'chan...   \n",
       "2  ['lesters', 'is', 'located', 'in', 'a', 'beaut...   \n",
       "\n",
       "                                    text_nostopwords  \n",
       "0  ['super', 'simple', 'place', 'amazing', 'nonet...  \n",
       "1  ['small', 'unassuming', 'place', 'changes', 'm...  \n",
       "2  ['lesters', 'located', 'beautiful', 'neighborh...  \n",
       "\n",
       "[3 rows x 45 columns]"
      ]
     },
     "execution_count": 25,
     "metadata": {},
     "output_type": "execute_result"
    }
   ],
   "source": [
    "lstm = pd.merge(df_final_3, df_r, how='left', on = 'review_id')\n",
    "lstm.head(3)"
   ]
  },
  {
   "cell_type": "code",
   "execution_count": 12,
   "metadata": {},
   "outputs": [],
   "source": [
    "df_r_1 = df_r[df_r.review_rating ==1]\n",
    "df_r_2 = df_r[df_r.review_rating ==2]\n",
    "df_r_3 = df_r[df_r.review_rating ==3]\n",
    "df_r_4 = df_r[df_r.review_rating ==4]\n",
    "df_r_5 = df_r[df_r.review_rating ==5]"
   ]
  },
  {
   "cell_type": "code",
   "execution_count": 23,
   "metadata": {},
   "outputs": [
    {
     "data": {
      "text/plain": [
       "5.0    185794\n",
       "4.0    142855\n",
       "3.0     72701\n",
       "1.0     51082\n",
       "2.0     47083\n",
       "Name: review_rating_x, dtype: int64"
      ]
     },
     "execution_count": 23,
     "metadata": {},
     "output_type": "execute_result"
    }
   ],
   "source": [
    "lstm.review_rating_x.value_counts()"
   ]
  },
  {
   "cell_type": "code",
   "execution_count": 11,
   "metadata": {},
   "outputs": [
    {
     "ename": "ValueError",
     "evalue": "Cannot sample 51082 out of arrays with dim 47083 when replace is False",
     "output_type": "error",
     "traceback": [
      "\u001b[0;31m---------------------------------------------------------------------------\u001b[0m",
      "\u001b[0;31mValueError\u001b[0m                                Traceback (most recent call last)",
      "\u001b[0;32m<ipython-input-11-175595511bf2>\u001b[0m in \u001b[0;36m<module>\u001b[0;34m()\u001b[0m\n\u001b[1;32m      1\u001b[0m \u001b[0;32mfrom\u001b[0m \u001b[0msklearn\u001b[0m\u001b[0;34m.\u001b[0m\u001b[0mutils\u001b[0m \u001b[0;32mimport\u001b[0m \u001b[0mresample\u001b[0m\u001b[0;34m\u001b[0m\u001b[0;34m\u001b[0m\u001b[0m\n\u001b[1;32m      2\u001b[0m df_r_2_ds = resample(df_r_2, replace = False,n_samples=len(df_r_1),\n\u001b[0;32m----> 3\u001b[0;31m                                                     random_state=123)\n\u001b[0m\u001b[1;32m      4\u001b[0m df_r_3_ds = resample(df_r_3, replace = False,n_samples=len(df_r_1),\n\u001b[1;32m      5\u001b[0m                                                     random_state=123)\n",
      "\u001b[0;32m~/.local/lib/python3.6/site-packages/sklearn/utils/__init__.py\u001b[0m in \u001b[0;36mresample\u001b[0;34m(*arrays, **options)\u001b[0m\n\u001b[1;32m    281\u001b[0m         raise ValueError(\"Cannot sample %d out of arrays with dim %d \"\n\u001b[1;32m    282\u001b[0m                          \"when replace is False\" % (max_n_samples,\n\u001b[0;32m--> 283\u001b[0;31m                                                     n_samples))\n\u001b[0m\u001b[1;32m    284\u001b[0m \u001b[0;34m\u001b[0m\u001b[0m\n\u001b[1;32m    285\u001b[0m     \u001b[0mcheck_consistent_length\u001b[0m\u001b[0;34m(\u001b[0m\u001b[0;34m*\u001b[0m\u001b[0marrays\u001b[0m\u001b[0;34m)\u001b[0m\u001b[0;34m\u001b[0m\u001b[0;34m\u001b[0m\u001b[0m\n",
      "\u001b[0;31mValueError\u001b[0m: Cannot sample 51082 out of arrays with dim 47083 when replace is False"
     ]
    }
   ],
   "source": [
    "from sklearn.utils import resample\n",
    "df_r_2_ds = resample(df_r_2, replace = False,n_samples=len(df_r_1),\n",
    "                                                    random_state=123)\n",
    "df_r_3_ds = resample(df_r_3, replace = False,n_samples=len(df_r_1),\n",
    "                                                    random_state=123)\n",
    "df_r_4_ds = resample(df_r_4, replace = False,n_samples=len(df_r_1),\n",
    "                                                    random_state=123) \n",
    "df_r_5_ds = resample(df_r_5, replace = False,n_samples=len(df_r_1),\n",
    "                                                    random_state=123) \n",
    "\n",
    "# df_r_ds= pd.concat([df_r_1, df_r_2_ds,df_r_3_ds,df_r_4_ds,df_r_5_ds]) \n",
    "# print(df_r_ds.review_rating.value_counts())\n",
    "# print(df_r__ds.shape)"
   ]
  },
  {
   "cell_type": "code",
   "execution_count": null,
   "metadata": {},
   "outputs": [],
   "source": []
  },
  {
   "cell_type": "code",
   "execution_count": null,
   "metadata": {},
   "outputs": [],
   "source": []
  },
  {
   "cell_type": "code",
   "execution_count": null,
   "metadata": {},
   "outputs": [],
   "source": []
  },
  {
   "cell_type": "code",
   "execution_count": 6,
   "metadata": {
    "scrolled": false
   },
   "outputs": [
    {
     "data": {
      "text/plain": [
       "review_id            object\n",
       "review_rating         int64\n",
       "date                 object\n",
       "text                 object\n",
       "text_nopunct         object\n",
       "text_lower           object\n",
       "text_nostopwords     object\n",
       "review_count        float64\n",
       "dtype: object"
      ]
     },
     "execution_count": 6,
     "metadata": {},
     "output_type": "execute_result"
    }
   ],
   "source": [
    "df_r.dtypes"
   ]
  },
  {
   "cell_type": "code",
   "execution_count": 8,
   "metadata": {},
   "outputs": [
    {
     "name": "stdout",
     "output_type": "stream",
     "text": [
      "[nltk_data] Downloading package stopwords to /home/lin/nltk_data...\n",
      "[nltk_data]   Package stopwords is already up-to-date!\n"
     ]
    },
    {
     "data": {
      "text/plain": [
       "True"
      ]
     },
     "execution_count": 8,
     "metadata": {},
     "output_type": "execute_result"
    }
   ],
   "source": [
    "import csv\n",
    "import nltk\n",
    "import string\n",
    "import numpy as np\n",
    "from nltk.corpus import stopwords\n",
    "import matplotlib.pyplot as plt \n",
    "from collections import Counter   \n",
    "from math import log\n",
    "from nltk.corpus import stopwords\n",
    "nltk.download('stopwords')"
   ]
  },
  {
   "cell_type": "code",
   "execution_count": 146,
   "metadata": {},
   "outputs": [],
   "source": [
    "df_text = df_r[['review_id', 'text']]"
   ]
  },
  {
   "cell_type": "code",
   "execution_count": 147,
   "metadata": {
    "scrolled": true
   },
   "outputs": [
    {
     "data": {
      "text/html": [
       "<div>\n",
       "<style scoped>\n",
       "    .dataframe tbody tr th:only-of-type {\n",
       "        vertical-align: middle;\n",
       "    }\n",
       "\n",
       "    .dataframe tbody tr th {\n",
       "        vertical-align: top;\n",
       "    }\n",
       "\n",
       "    .dataframe thead th {\n",
       "        text-align: right;\n",
       "    }\n",
       "</style>\n",
       "<table border=\"1\" class=\"dataframe\">\n",
       "  <thead>\n",
       "    <tr style=\"text-align: right;\">\n",
       "      <th></th>\n",
       "      <th>review_id</th>\n",
       "      <th>text</th>\n",
       "    </tr>\n",
       "  </thead>\n",
       "  <tbody>\n",
       "    <tr>\n",
       "      <th>0</th>\n",
       "      <td>vkVSCC7xljjrAI4UGfnKEQ</td>\n",
       "      <td>Super simple place but amazing nonetheless. It...</td>\n",
       "    </tr>\n",
       "    <tr>\n",
       "      <th>1</th>\n",
       "      <td>n6QzIUObkYshz4dz2QRJTw</td>\n",
       "      <td>Small unassuming place that changes their menu...</td>\n",
       "    </tr>\n",
       "    <tr>\n",
       "      <th>2</th>\n",
       "      <td>MV3CcKScW05u5LVfF6ok0g</td>\n",
       "      <td>Lester's is located in a beautiful neighborhoo...</td>\n",
       "    </tr>\n",
       "    <tr>\n",
       "      <th>3</th>\n",
       "      <td>IXvOzsEMYtiJI0CARmj77Q</td>\n",
       "      <td>Love coming here. Yes the place always needs t...</td>\n",
       "    </tr>\n",
       "    <tr>\n",
       "      <th>4</th>\n",
       "      <td>L_9BTb55X0GDtThi6GlZ6w</td>\n",
       "      <td>Had their chocolate almond croissant and it wa...</td>\n",
       "    </tr>\n",
       "  </tbody>\n",
       "</table>\n",
       "</div>"
      ],
      "text/plain": [
       "                review_id                                               text\n",
       "0  vkVSCC7xljjrAI4UGfnKEQ  Super simple place but amazing nonetheless. It...\n",
       "1  n6QzIUObkYshz4dz2QRJTw  Small unassuming place that changes their menu...\n",
       "2  MV3CcKScW05u5LVfF6ok0g  Lester's is located in a beautiful neighborhoo...\n",
       "3  IXvOzsEMYtiJI0CARmj77Q  Love coming here. Yes the place always needs t...\n",
       "4  L_9BTb55X0GDtThi6GlZ6w  Had their chocolate almond croissant and it wa..."
      ]
     },
     "execution_count": 147,
     "metadata": {},
     "output_type": "execute_result"
    }
   ],
   "source": [
    "df_text[:5]"
   ]
  },
  {
   "cell_type": "code",
   "execution_count": 148,
   "metadata": {},
   "outputs": [],
   "source": [
    "# first convert the text column into a list of dictionary, review id is the key, text is the value \n",
    "review=df_text.to_dict('records')"
   ]
  },
  {
   "cell_type": "code",
   "execution_count": null,
   "metadata": {},
   "outputs": [],
   "source": [
    "## count the number of words before/after clean text; count the number of punctuation \n",
    "## count the number of adj, number of verb, number of noun as features "
   ]
  },
  {
   "cell_type": "code",
   "execution_count": 175,
   "metadata": {},
   "outputs": [],
   "source": [
    "stop = set(stopwords.words('english'))\n",
    "noun = ['NN', 'NNS', 'NNP', 'NNPS']\n",
    "adj = ['JJ', 'JJR', 'JJS']\n",
    "verb = ['VB', 'VBD', 'VBG', 'VBN', 'VBP', 'VBZ']\n",
    "\n",
    "for cell in review: \n",
    "    \n",
    "    lowers = cell['text'].lower()\n",
    "    tokens = nltk.word_tokenize(lowers)\n",
    "    no_punct = [t for t in tokens if t not in string.punctuation]\n",
    "    new_tokens = [w for w in no_punct if w.isalnum()]\n",
    "    no_stop = [w for w in new_tokens if not w in stop]\n",
    "    length = [w for w in no_stop if 15>len(w)>3]\n",
    "    count_words=len(length) \n",
    "    \n",
    "\n",
    "    pos_tag = nltk.pos_tag(nltk.word_tokenize(cell['text']))\n",
    "    adj_list = [word[0] for word in pos_tag if word[1] in adj]\n",
    "    noun_list = [word[0] for word in pos_tag if word[1] in noun]\n",
    "    verb_list = [word[0] for word in pos_tag if word[1] in verb]\n",
    "        \n",
    "    \n",
    "    \n",
    "    \n",
    "    \n",
    "    \n",
    "    \n",
    "    \n",
    "    cell.update(clean_text=length, number_wrds = count_words, \n",
    "                number_puncuation = len(tokens)-len(no_punct), \n",
    "                number_raw_wrds = len(tokens), number_adj=len(adj_list),\n",
    "                number_noun=len(noun_list), number_verb=len(verb_list))# append a new key and values in the cell dictionary  \n",
    "    \n",
    "        "
   ]
  },
  {
   "cell_type": "code",
   "execution_count": null,
   "metadata": {},
   "outputs": [],
   "source": []
  },
  {
   "cell_type": "code",
   "execution_count": 2,
   "metadata": {},
   "outputs": [
    {
     "ename": "NameError",
     "evalue": "name 'review' is not defined",
     "output_type": "error",
     "traceback": [
      "\u001b[0;31m---------------------------------------------------------------------------\u001b[0m",
      "\u001b[0;31mNameError\u001b[0m                                 Traceback (most recent call last)",
      "\u001b[0;32m<ipython-input-2-8fc279410174>\u001b[0m in \u001b[0;36m<module>\u001b[0;34m()\u001b[0m\n\u001b[1;32m      1\u001b[0m \u001b[0;31m#covert the review list of dictionary into a dataframe\u001b[0m\u001b[0;34m\u001b[0m\u001b[0;34m\u001b[0m\u001b[0;34m\u001b[0m\u001b[0m\n\u001b[1;32m      2\u001b[0m \u001b[0;34m\u001b[0m\u001b[0m\n\u001b[0;32m----> 3\u001b[0;31m \u001b[0mdf_clean_text\u001b[0m\u001b[0;34m=\u001b[0m\u001b[0mpd\u001b[0m\u001b[0;34m.\u001b[0m\u001b[0mDataFrame\u001b[0m\u001b[0;34m.\u001b[0m\u001b[0mfrom_dict\u001b[0m\u001b[0;34m(\u001b[0m\u001b[0mreview\u001b[0m\u001b[0;34m)\u001b[0m\u001b[0;34m\u001b[0m\u001b[0;34m\u001b[0m\u001b[0m\n\u001b[0m\u001b[1;32m      4\u001b[0m \u001b[0;34m\u001b[0m\u001b[0m\n\u001b[1;32m      5\u001b[0m \u001b[0mdf_final\u001b[0m \u001b[0;34m=\u001b[0m \u001b[0mpd\u001b[0m\u001b[0;34m.\u001b[0m\u001b[0mmerge\u001b[0m\u001b[0;34m(\u001b[0m\u001b[0mdf_r\u001b[0m\u001b[0;34m,\u001b[0m \u001b[0mdf_clean_text\u001b[0m\u001b[0;34m,\u001b[0m \u001b[0mhow\u001b[0m \u001b[0;34m=\u001b[0m \u001b[0;34m'outer'\u001b[0m\u001b[0;34m,\u001b[0m \u001b[0mon\u001b[0m \u001b[0;34m=\u001b[0m \u001b[0;34m'review_id'\u001b[0m\u001b[0;34m)\u001b[0m\u001b[0;34m\u001b[0m\u001b[0;34m\u001b[0m\u001b[0m\n",
      "\u001b[0;31mNameError\u001b[0m: name 'review' is not defined"
     ]
    }
   ],
   "source": [
    "#covert the review list of dictionary into a dataframe \n",
    "\n",
    "df_clean_text=pd.DataFrame.from_dict(review)\n",
    "\n",
    "df_final = pd.merge(df_r, df_clean_text, how = 'outer', on = 'review_id')\n",
    "df_final.columns\n",
    "df_final = df_final[['review_id', 'review_rating', 'date', 'text_x', 'clean_text',\n",
    "       'number_puncuation', 'number_raw_wrds', 'number_wrds', 'number_adj', 'number_noun', 'number_verb']]\n",
    "# df_final.head()\n",
    "df_final.to_csv('final.csv')"
   ]
  },
  {
   "cell_type": "code",
   "execution_count": 9,
   "metadata": {
    "scrolled": true
   },
   "outputs": [],
   "source": [
    "df_final = pd.read_csv('final.csv')\n"
   ]
  },
  {
   "cell_type": "code",
   "execution_count": 9,
   "metadata": {
    "scrolled": true
   },
   "outputs": [
    {
     "data": {
      "text/plain": [
       "array([[<matplotlib.axes._subplots.AxesSubplot object at 0x7f2442a9a668>]],\n",
       "      dtype=object)"
      ]
     },
     "execution_count": 9,
     "metadata": {},
     "output_type": "execute_result"
    },
    {
     "data": {
      "image/png": "[encoded data removed]",
      "text/plain": [
       "<Figure size 432x288 with 1 Axes>"
      ]
     },
     "metadata": {
      "needs_background": "light"
     },
     "output_type": "display_data"
    }
   ],
   "source": [
    "%matplotlib inline\n",
    "df_final.hist(column='review_rating')"
   ]
  },
  {
   "cell_type": "markdown",
   "metadata": {},
   "source": [
    "## Generate sentiment analysis score from this review text "
   ]
  },
  {
   "cell_type": "code",
   "execution_count": 8,
   "metadata": {},
   "outputs": [
    {
     "name": "stdout",
     "output_type": "stream",
     "text": [
      "[nltk_data] Downloading package vader_lexicon to\n",
      "[nltk_data]     /home/lin/nltk_data...\n",
      "[nltk_data]   Package vader_lexicon is already up-to-date!\n"
     ]
    }
   ],
   "source": [
    "from nltk.sentiment.vader import SentimentIntensityAnalyzer\n",
    "import nltk\n",
    "nltk.download('vader_lexicon')\n",
    "sid = SentimentIntensityAnalyzer()"
   ]
  },
  {
   "cell_type": "code",
   "execution_count": 10,
   "metadata": {},
   "outputs": [],
   "source": [
    "import re\n",
    "PATTERN = r'[^a-zA]' \n",
    "df_senti = df_final[['review_id','text_x']]\n",
    "senti=df_senti.to_dict('records') \n",
    "for cell in senti: \n",
    "    cell_1 = cell['text_x'].replace('\\n','').replace('\\n\\n','').lower()\n",
    "    cell_2 = re.sub(PATTERN,r' ',cell_1)\n",
    "    cell_2_no_punc= cell_2.translate(str.maketrans('','', string.punctuation))\n",
    "    ss = sid.polarity_scores(cell_2_no_punc)\n",
    "    cell.update(ss)"
   ]
  },
  {
   "cell_type": "code",
   "execution_count": 11,
   "metadata": {},
   "outputs": [],
   "source": [
    "df_senti_score=pd.DataFrame.from_dict(senti)\n",
    "df_final_2 = pd.merge(df_final, df_senti_score,  how='outer',on = 'review_id')\n",
    "df_final_2 = df_final_2.drop(['Unnamed: 0', 'text_x_y'], axis=1)"
   ]
  },
  {
   "cell_type": "code",
   "execution_count": 12,
   "metadata": {},
   "outputs": [],
   "source": [
    "df_final_2.head()\n",
    "df_final_2.to_csv('final_add_senti.csv')"
   ]
  },
  {
   "cell_type": "markdown",
   "metadata": {},
   "source": [
    "## Add LDA topics as features "
   ]
  },
  {
   "cell_type": "code",
   "execution_count": 14,
   "metadata": {},
   "outputs": [
    {
     "data": {
      "text/html": [
       "<div>\n",
       "<style scoped>\n",
       "    .dataframe tbody tr th:only-of-type {\n",
       "        vertical-align: middle;\n",
       "    }\n",
       "\n",
       "    .dataframe tbody tr th {\n",
       "        vertical-align: top;\n",
       "    }\n",
       "\n",
       "    .dataframe thead th {\n",
       "        text-align: right;\n",
       "    }\n",
       "</style>\n",
       "<table border=\"1\" class=\"dataframe\">\n",
       "  <thead>\n",
       "    <tr style=\"text-align: right;\">\n",
       "      <th></th>\n",
       "      <th>review_id</th>\n",
       "      <th>review_rating</th>\n",
       "      <th>date</th>\n",
       "      <th>text_x_x</th>\n",
       "      <th>clean_text</th>\n",
       "      <th>number_puncuation</th>\n",
       "      <th>number_raw_wrds</th>\n",
       "      <th>number_wrds</th>\n",
       "      <th>number_adj</th>\n",
       "      <th>number_noun</th>\n",
       "      <th>number_verb</th>\n",
       "      <th>compound</th>\n",
       "      <th>neg</th>\n",
       "      <th>neu</th>\n",
       "      <th>pos</th>\n",
       "    </tr>\n",
       "  </thead>\n",
       "  <tbody>\n",
       "    <tr>\n",
       "      <th>0</th>\n",
       "      <td>vkVSCC7xljjrAI4UGfnKEQ</td>\n",
       "      <td>5</td>\n",
       "      <td>2016-05-28</td>\n",
       "      <td>Super simple place but amazing nonetheless. It...</td>\n",
       "      <td>['super', 'simple', 'place', 'amazing', 'nonet...</td>\n",
       "      <td>4</td>\n",
       "      <td>41</td>\n",
       "      <td>18</td>\n",
       "      <td>5</td>\n",
       "      <td>8</td>\n",
       "      <td>5</td>\n",
       "      <td>0.9551</td>\n",
       "      <td>0.0</td>\n",
       "      <td>0.638</td>\n",
       "      <td>0.362</td>\n",
       "    </tr>\n",
       "    <tr>\n",
       "      <th>1</th>\n",
       "      <td>n6QzIUObkYshz4dz2QRJTw</td>\n",
       "      <td>5</td>\n",
       "      <td>2016-05-28</td>\n",
       "      <td>Small unassuming place that changes their menu...</td>\n",
       "      <td>['small', 'unassuming', 'place', 'changes', 'm...</td>\n",
       "      <td>7</td>\n",
       "      <td>99</td>\n",
       "      <td>46</td>\n",
       "      <td>7</td>\n",
       "      <td>24</td>\n",
       "      <td>14</td>\n",
       "      <td>0.8014</td>\n",
       "      <td>0.0</td>\n",
       "      <td>0.908</td>\n",
       "      <td>0.092</td>\n",
       "    </tr>\n",
       "    <tr>\n",
       "      <th>2</th>\n",
       "      <td>MV3CcKScW05u5LVfF6ok0g</td>\n",
       "      <td>5</td>\n",
       "      <td>2016-05-28</td>\n",
       "      <td>Lester's is located in a beautiful neighborhoo...</td>\n",
       "      <td>['lester', 'located', 'beautiful', 'neighborho...</td>\n",
       "      <td>3</td>\n",
       "      <td>76</td>\n",
       "      <td>27</td>\n",
       "      <td>5</td>\n",
       "      <td>14</td>\n",
       "      <td>15</td>\n",
       "      <td>0.6249</td>\n",
       "      <td>0.0</td>\n",
       "      <td>0.925</td>\n",
       "      <td>0.075</td>\n",
       "    </tr>\n",
       "  </tbody>\n",
       "</table>\n",
       "</div>"
      ],
      "text/plain": [
       "                review_id  review_rating        date  \\\n",
       "0  vkVSCC7xljjrAI4UGfnKEQ              5  2016-05-28   \n",
       "1  n6QzIUObkYshz4dz2QRJTw              5  2016-05-28   \n",
       "2  MV3CcKScW05u5LVfF6ok0g              5  2016-05-28   \n",
       "\n",
       "                                            text_x_x  \\\n",
       "0  Super simple place but amazing nonetheless. It...   \n",
       "1  Small unassuming place that changes their menu...   \n",
       "2  Lester's is located in a beautiful neighborhoo...   \n",
       "\n",
       "                                          clean_text  number_puncuation  \\\n",
       "0  ['super', 'simple', 'place', 'amazing', 'nonet...                  4   \n",
       "1  ['small', 'unassuming', 'place', 'changes', 'm...                  7   \n",
       "2  ['lester', 'located', 'beautiful', 'neighborho...                  3   \n",
       "\n",
       "   number_raw_wrds  number_wrds  number_adj  number_noun  number_verb  \\\n",
       "0               41           18           5            8            5   \n",
       "1               99           46           7           24           14   \n",
       "2               76           27           5           14           15   \n",
       "\n",
       "   compound  neg    neu    pos  \n",
       "0    0.9551  0.0  0.638  0.362  \n",
       "1    0.8014  0.0  0.908  0.092  \n",
       "2    0.6249  0.0  0.925  0.075  "
      ]
     },
     "execution_count": 14,
     "metadata": {},
     "output_type": "execute_result"
    }
   ],
   "source": [
    "df_final_2.head(3)"
   ]
  },
  {
   "cell_type": "code",
   "execution_count": 49,
   "metadata": {},
   "outputs": [
    {
     "data": {
      "text/plain": [
       "(499517, 31)"
      ]
     },
     "execution_count": 49,
     "metadata": {},
     "output_type": "execute_result"
    }
   ],
   "source": [
    "df_restaunt_topics = pd.read_csv(\"df_restaunt_with_topics.csv\")\n",
    "df_restaunt_topics.shape"
   ]
  },
  {
   "cell_type": "code",
   "execution_count": 50,
   "metadata": {
    "scrolled": true
   },
   "outputs": [],
   "source": [
    "df_lda = df_restaunt_topics[['review_id', 'Topic_1','Topic_2', 'Topic_3','Topic_4','Topic_5']]\n",
    "df_final_3 = pd.merge(df_lda, df_final_2, how='outer', on = 'review_id')\n",
    "# df_final_3.head()\n",
    "df_final_3.to_csv('final_3.csv')"
   ]
  },
  {
   "cell_type": "code",
   "execution_count": 51,
   "metadata": {
    "scrolled": false
   },
   "outputs": [
    {
     "data": {
      "text/plain": [
       "Index(['review_id', 'Topic_1', 'Topic_2', 'Topic_3', 'Topic_4', 'Topic_5',\n",
       "       'review_rating', 'date', 'text_x_x', 'clean_text', 'number_puncuation',\n",
       "       'number_raw_wrds', 'number_wrds', 'number_adj', 'number_noun',\n",
       "       'number_verb', 'compound', 'neg', 'neu', 'pos'],\n",
       "      dtype='object')"
      ]
     },
     "execution_count": 51,
     "metadata": {},
     "output_type": "execute_result"
    }
   ],
   "source": [
    "df_final_3.columns"
   ]
  },
  {
   "cell_type": "markdown",
   "metadata": {},
   "source": []
  },
  {
   "cell_type": "code",
   "execution_count": 18,
   "metadata": {},
   "outputs": [],
   "source": [
    "df_final_3 = pd.read_csv(\"final_3.csv\")"
   ]
  },
  {
   "cell_type": "code",
   "execution_count": 3,
   "metadata": {
    "scrolled": true
   },
   "outputs": [
    {
     "data": {
      "text/plain": [
       "(499517, 21)"
      ]
     },
     "execution_count": 3,
     "metadata": {},
     "output_type": "execute_result"
    }
   ],
   "source": [
    "df_final_3.shape "
   ]
  },
  {
   "cell_type": "code",
   "execution_count": 30,
   "metadata": {},
   "outputs": [
    {
     "data": {
      "text/html": [
       "<div>\n",
       "<style scoped>\n",
       "    .dataframe tbody tr th:only-of-type {\n",
       "        vertical-align: middle;\n",
       "    }\n",
       "\n",
       "    .dataframe tbody tr th {\n",
       "        vertical-align: top;\n",
       "    }\n",
       "\n",
       "    .dataframe thead th {\n",
       "        text-align: right;\n",
       "    }\n",
       "</style>\n",
       "<table border=\"1\" class=\"dataframe\">\n",
       "  <thead>\n",
       "    <tr style=\"text-align: right;\">\n",
       "      <th></th>\n",
       "      <th>review_id</th>\n",
       "      <th>Topic_1</th>\n",
       "      <th>Topic_2</th>\n",
       "      <th>Topic_3</th>\n",
       "      <th>Topic_4</th>\n",
       "      <th>Topic_5</th>\n",
       "      <th>review_rating</th>\n",
       "      <th>text_x_x</th>\n",
       "      <th>clean_text</th>\n",
       "      <th>number_puncuation</th>\n",
       "      <th>number_raw_wrds</th>\n",
       "      <th>number_wrds</th>\n",
       "      <th>number_adj</th>\n",
       "      <th>number_noun</th>\n",
       "      <th>number_verb</th>\n",
       "      <th>compound</th>\n",
       "      <th>neg</th>\n",
       "      <th>neu</th>\n",
       "      <th>pos</th>\n",
       "    </tr>\n",
       "  </thead>\n",
       "  <tbody>\n",
       "    <tr>\n",
       "      <th>0</th>\n",
       "      <td>vkVSCC7xljjrAI4UGfnKEQ</td>\n",
       "      <td>0.627663</td>\n",
       "      <td>0.052521</td>\n",
       "      <td>0.145661</td>\n",
       "      <td>0.002195</td>\n",
       "      <td>0.171961</td>\n",
       "      <td>5.0</td>\n",
       "      <td>Super simple place but amazing nonetheless. It...</td>\n",
       "      <td>['super', 'simple', 'place', 'amazing', 'nonet...</td>\n",
       "      <td>4.0</td>\n",
       "      <td>41.0</td>\n",
       "      <td>18.0</td>\n",
       "      <td>5.0</td>\n",
       "      <td>8.0</td>\n",
       "      <td>5.0</td>\n",
       "      <td>0.9551</td>\n",
       "      <td>0.0</td>\n",
       "      <td>0.638</td>\n",
       "      <td>0.362</td>\n",
       "    </tr>\n",
       "    <tr>\n",
       "      <th>1</th>\n",
       "      <td>n6QzIUObkYshz4dz2QRJTw</td>\n",
       "      <td>0.466920</td>\n",
       "      <td>0.110773</td>\n",
       "      <td>0.141278</td>\n",
       "      <td>0.000992</td>\n",
       "      <td>0.280037</td>\n",
       "      <td>5.0</td>\n",
       "      <td>Small unassuming place that changes their menu...</td>\n",
       "      <td>['small', 'unassuming', 'place', 'changes', 'm...</td>\n",
       "      <td>7.0</td>\n",
       "      <td>99.0</td>\n",
       "      <td>46.0</td>\n",
       "      <td>7.0</td>\n",
       "      <td>24.0</td>\n",
       "      <td>14.0</td>\n",
       "      <td>0.8014</td>\n",
       "      <td>0.0</td>\n",
       "      <td>0.908</td>\n",
       "      <td>0.092</td>\n",
       "    </tr>\n",
       "    <tr>\n",
       "      <th>2</th>\n",
       "      <td>MV3CcKScW05u5LVfF6ok0g</td>\n",
       "      <td>0.814398</td>\n",
       "      <td>0.086540</td>\n",
       "      <td>0.020340</td>\n",
       "      <td>0.001486</td>\n",
       "      <td>0.077236</td>\n",
       "      <td>5.0</td>\n",
       "      <td>Lester's is located in a beautiful neighborhoo...</td>\n",
       "      <td>['lester', 'located', 'beautiful', 'neighborho...</td>\n",
       "      <td>3.0</td>\n",
       "      <td>76.0</td>\n",
       "      <td>27.0</td>\n",
       "      <td>5.0</td>\n",
       "      <td>14.0</td>\n",
       "      <td>15.0</td>\n",
       "      <td>0.6249</td>\n",
       "      <td>0.0</td>\n",
       "      <td>0.925</td>\n",
       "      <td>0.075</td>\n",
       "    </tr>\n",
       "  </tbody>\n",
       "</table>\n",
       "</div>"
      ],
      "text/plain": [
       "                review_id   Topic_1   Topic_2   Topic_3   Topic_4   Topic_5  \\\n",
       "0  vkVSCC7xljjrAI4UGfnKEQ  0.627663  0.052521  0.145661  0.002195  0.171961   \n",
       "1  n6QzIUObkYshz4dz2QRJTw  0.466920  0.110773  0.141278  0.000992  0.280037   \n",
       "2  MV3CcKScW05u5LVfF6ok0g  0.814398  0.086540  0.020340  0.001486  0.077236   \n",
       "\n",
       "   review_rating                                           text_x_x  \\\n",
       "0            5.0  Super simple place but amazing nonetheless. It...   \n",
       "1            5.0  Small unassuming place that changes their menu...   \n",
       "2            5.0  Lester's is located in a beautiful neighborhoo...   \n",
       "\n",
       "                                          clean_text  number_puncuation  \\\n",
       "0  ['super', 'simple', 'place', 'amazing', 'nonet...                4.0   \n",
       "1  ['small', 'unassuming', 'place', 'changes', 'm...                7.0   \n",
       "2  ['lester', 'located', 'beautiful', 'neighborho...                3.0   \n",
       "\n",
       "   number_raw_wrds  number_wrds  number_adj  number_noun  number_verb  \\\n",
       "0             41.0         18.0         5.0          8.0          5.0   \n",
       "1             99.0         46.0         7.0         24.0         14.0   \n",
       "2             76.0         27.0         5.0         14.0         15.0   \n",
       "\n",
       "   compound  neg    neu    pos  \n",
       "0    0.9551  0.0  0.638  0.362  \n",
       "1    0.8014  0.0  0.908  0.092  \n",
       "2    0.6249  0.0  0.925  0.075  "
      ]
     },
     "execution_count": 30,
     "metadata": {},
     "output_type": "execute_result"
    }
   ],
   "source": [
    "df_final_3 = df_final_3.dropna()\n",
    "df_final_4 = df_final_3.drop([ 'date', 'Unnamed: 0'], axis=1)\n",
    "df_final_4.columns\n",
    "df_final_4.head(3)"
   ]
  },
  {
   "cell_type": "code",
   "execution_count": 5,
   "metadata": {
    "scrolled": true
   },
   "outputs": [
    {
     "name": "stderr",
     "output_type": "stream",
     "text": [
      "/home/lin/.local/lib/python3.6/site-packages/ipykernel_launcher.py:3: DeprecationWarning: \n",
      ".ix is deprecated. Please use\n",
      ".loc for label based indexing or\n",
      ".iloc for positional indexing\n",
      "\n",
      "See the documentation here:\n",
      "http://pandas.pydata.org/pandas-docs/stable/indexing.html#ix-indexer-is-deprecated\n",
      "  This is separate from the ipykernel package so we can avoid doing imports until\n"
     ]
    }
   ],
   "source": [
    "## Make sure all the cells are positive \n",
    "for cols in df_final_4.columns.tolist(): \n",
    "    df_final_4 = df_final_4.ix[df_final_4[cols] > 0]"
   ]
  },
  {
   "cell_type": "code",
   "execution_count": 32,
   "metadata": {
    "scrolled": false
   },
   "outputs": [],
   "source": [
    "# df_final_4.head()\n",
    "df_final_4.to_csv(\"lstm.csv\")"
   ]
  },
  {
   "cell_type": "code",
   "execution_count": 34,
   "metadata": {},
   "outputs": [
    {
     "data": {
      "text/html": [
       "<div>\n",
       "<style scoped>\n",
       "    .dataframe tbody tr th:only-of-type {\n",
       "        vertical-align: middle;\n",
       "    }\n",
       "\n",
       "    .dataframe tbody tr th {\n",
       "        vertical-align: top;\n",
       "    }\n",
       "\n",
       "    .dataframe thead th {\n",
       "        text-align: right;\n",
       "    }\n",
       "</style>\n",
       "<table border=\"1\" class=\"dataframe\">\n",
       "  <thead>\n",
       "    <tr style=\"text-align: right;\">\n",
       "      <th></th>\n",
       "      <th>review_id</th>\n",
       "      <th>Topic_1</th>\n",
       "      <th>Topic_2</th>\n",
       "      <th>Topic_3</th>\n",
       "      <th>Topic_4</th>\n",
       "      <th>Topic_5</th>\n",
       "      <th>review_rating</th>\n",
       "      <th>text_x_x</th>\n",
       "      <th>clean_text</th>\n",
       "      <th>number_puncuation</th>\n",
       "      <th>number_raw_wrds</th>\n",
       "      <th>number_wrds</th>\n",
       "      <th>number_adj</th>\n",
       "      <th>number_noun</th>\n",
       "      <th>number_verb</th>\n",
       "      <th>compound</th>\n",
       "      <th>neg</th>\n",
       "      <th>neu</th>\n",
       "      <th>pos</th>\n",
       "    </tr>\n",
       "  </thead>\n",
       "  <tbody>\n",
       "    <tr>\n",
       "      <th>0</th>\n",
       "      <td>vkVSCC7xljjrAI4UGfnKEQ</td>\n",
       "      <td>0.627663</td>\n",
       "      <td>0.052521</td>\n",
       "      <td>0.145661</td>\n",
       "      <td>0.002195</td>\n",
       "      <td>0.171961</td>\n",
       "      <td>5.0</td>\n",
       "      <td>Super simple place but amazing nonetheless. It...</td>\n",
       "      <td>['super', 'simple', 'place', 'amazing', 'nonet...</td>\n",
       "      <td>4.0</td>\n",
       "      <td>41.0</td>\n",
       "      <td>18.0</td>\n",
       "      <td>5.0</td>\n",
       "      <td>8.0</td>\n",
       "      <td>5.0</td>\n",
       "      <td>0.9551</td>\n",
       "      <td>0.000</td>\n",
       "      <td>0.638</td>\n",
       "      <td>0.362</td>\n",
       "    </tr>\n",
       "    <tr>\n",
       "      <th>1</th>\n",
       "      <td>n6QzIUObkYshz4dz2QRJTw</td>\n",
       "      <td>0.466920</td>\n",
       "      <td>0.110773</td>\n",
       "      <td>0.141278</td>\n",
       "      <td>0.000992</td>\n",
       "      <td>0.280037</td>\n",
       "      <td>5.0</td>\n",
       "      <td>Small unassuming place that changes their menu...</td>\n",
       "      <td>['small', 'unassuming', 'place', 'changes', 'm...</td>\n",
       "      <td>7.0</td>\n",
       "      <td>99.0</td>\n",
       "      <td>46.0</td>\n",
       "      <td>7.0</td>\n",
       "      <td>24.0</td>\n",
       "      <td>14.0</td>\n",
       "      <td>0.8014</td>\n",
       "      <td>0.000</td>\n",
       "      <td>0.908</td>\n",
       "      <td>0.092</td>\n",
       "    </tr>\n",
       "    <tr>\n",
       "      <th>2</th>\n",
       "      <td>MV3CcKScW05u5LVfF6ok0g</td>\n",
       "      <td>0.814398</td>\n",
       "      <td>0.086540</td>\n",
       "      <td>0.020340</td>\n",
       "      <td>0.001486</td>\n",
       "      <td>0.077236</td>\n",
       "      <td>5.0</td>\n",
       "      <td>Lester's is located in a beautiful neighborhoo...</td>\n",
       "      <td>['lester', 'located', 'beautiful', 'neighborho...</td>\n",
       "      <td>3.0</td>\n",
       "      <td>76.0</td>\n",
       "      <td>27.0</td>\n",
       "      <td>5.0</td>\n",
       "      <td>14.0</td>\n",
       "      <td>15.0</td>\n",
       "      <td>0.6249</td>\n",
       "      <td>0.000</td>\n",
       "      <td>0.925</td>\n",
       "      <td>0.075</td>\n",
       "    </tr>\n",
       "    <tr>\n",
       "      <th>3</th>\n",
       "      <td>IXvOzsEMYtiJI0CARmj77Q</td>\n",
       "      <td>0.344673</td>\n",
       "      <td>0.363879</td>\n",
       "      <td>0.012105</td>\n",
       "      <td>0.001011</td>\n",
       "      <td>0.278332</td>\n",
       "      <td>4.0</td>\n",
       "      <td>Love coming here. Yes the place always needs t...</td>\n",
       "      <td>['love', 'coming', 'place', 'always', 'needs',...</td>\n",
       "      <td>10.0</td>\n",
       "      <td>112.0</td>\n",
       "      <td>44.0</td>\n",
       "      <td>5.0</td>\n",
       "      <td>29.0</td>\n",
       "      <td>17.0</td>\n",
       "      <td>0.9378</td>\n",
       "      <td>0.035</td>\n",
       "      <td>0.801</td>\n",
       "      <td>0.165</td>\n",
       "    </tr>\n",
       "    <tr>\n",
       "      <th>4</th>\n",
       "      <td>L_9BTb55X0GDtThi6GlZ6w</td>\n",
       "      <td>0.418503</td>\n",
       "      <td>0.032174</td>\n",
       "      <td>0.423569</td>\n",
       "      <td>0.002294</td>\n",
       "      <td>0.123459</td>\n",
       "      <td>4.0</td>\n",
       "      <td>Had their chocolate almond croissant and it wa...</td>\n",
       "      <td>['chocolate', 'almond', 'croissant', 'amazing'...</td>\n",
       "      <td>3.0</td>\n",
       "      <td>45.0</td>\n",
       "      <td>15.0</td>\n",
       "      <td>3.0</td>\n",
       "      <td>10.0</td>\n",
       "      <td>8.0</td>\n",
       "      <td>0.8176</td>\n",
       "      <td>0.000</td>\n",
       "      <td>0.839</td>\n",
       "      <td>0.161</td>\n",
       "    </tr>\n",
       "  </tbody>\n",
       "</table>\n",
       "</div>"
      ],
      "text/plain": [
       "                review_id   Topic_1   Topic_2   Topic_3   Topic_4   Topic_5  \\\n",
       "0  vkVSCC7xljjrAI4UGfnKEQ  0.627663  0.052521  0.145661  0.002195  0.171961   \n",
       "1  n6QzIUObkYshz4dz2QRJTw  0.466920  0.110773  0.141278  0.000992  0.280037   \n",
       "2  MV3CcKScW05u5LVfF6ok0g  0.814398  0.086540  0.020340  0.001486  0.077236   \n",
       "3  IXvOzsEMYtiJI0CARmj77Q  0.344673  0.363879  0.012105  0.001011  0.278332   \n",
       "4  L_9BTb55X0GDtThi6GlZ6w  0.418503  0.032174  0.423569  0.002294  0.123459   \n",
       "\n",
       "   review_rating                                           text_x_x  \\\n",
       "0            5.0  Super simple place but amazing nonetheless. It...   \n",
       "1            5.0  Small unassuming place that changes their menu...   \n",
       "2            5.0  Lester's is located in a beautiful neighborhoo...   \n",
       "3            4.0  Love coming here. Yes the place always needs t...   \n",
       "4            4.0  Had their chocolate almond croissant and it wa...   \n",
       "\n",
       "                                          clean_text  number_puncuation  \\\n",
       "0  ['super', 'simple', 'place', 'amazing', 'nonet...                4.0   \n",
       "1  ['small', 'unassuming', 'place', 'changes', 'm...                7.0   \n",
       "2  ['lester', 'located', 'beautiful', 'neighborho...                3.0   \n",
       "3  ['love', 'coming', 'place', 'always', 'needs',...               10.0   \n",
       "4  ['chocolate', 'almond', 'croissant', 'amazing'...                3.0   \n",
       "\n",
       "   number_raw_wrds  number_wrds  number_adj  number_noun  number_verb  \\\n",
       "0             41.0         18.0         5.0          8.0          5.0   \n",
       "1             99.0         46.0         7.0         24.0         14.0   \n",
       "2             76.0         27.0         5.0         14.0         15.0   \n",
       "3            112.0         44.0         5.0         29.0         17.0   \n",
       "4             45.0         15.0         3.0         10.0          8.0   \n",
       "\n",
       "   compound    neg    neu    pos  \n",
       "0    0.9551  0.000  0.638  0.362  \n",
       "1    0.8014  0.000  0.908  0.092  \n",
       "2    0.6249  0.000  0.925  0.075  \n",
       "3    0.9378  0.035  0.801  0.165  \n",
       "4    0.8176  0.000  0.839  0.161  "
      ]
     },
     "execution_count": 34,
     "metadata": {},
     "output_type": "execute_result"
    }
   ],
   "source": []
  },
  {
   "cell_type": "markdown",
   "metadata": {},
   "source": [
    "##  ******** Upload df_final_4  csv file for ML model work************"
   ]
  },
  {
   "cell_type": "code",
   "execution_count": 33,
   "metadata": {
    "scrolled": false
   },
   "outputs": [
    {
     "data": {
      "text/plain": [
       "5.0    185794\n",
       "4.0    142855\n",
       "3.0     72701\n",
       "1.0     51082\n",
       "2.0     47083\n",
       "Name: review_rating, dtype: int64"
      ]
     },
     "execution_count": 33,
     "metadata": {},
     "output_type": "execute_result"
    }
   ],
   "source": [
    "# df_final_4 = pd.read_csv(\"lstm.csv\")\n",
    "df_final_4.review_rating.value_counts() \n",
    "# df_final_4.head()\n",
    "### This is an inbalanced dataset, so we need to downsample this to do the prediction "
   ]
  },
  {
   "cell_type": "code",
   "execution_count": 3,
   "metadata": {},
   "outputs": [],
   "source": [
    "df_final_4_1 = df_final_4[df_final_4.review_rating ==1]\n",
    "df_final_4_2 = df_final_4[df_final_4.review_rating ==2]\n",
    "df_final_4_3 = df_final_4[df_final_4.review_rating ==3]\n",
    "df_final_4_4 = df_final_4[df_final_4.review_rating ==4]\n",
    "df_final_4_5 = df_final_4[df_final_4.review_rating ==5]"
   ]
  },
  {
   "cell_type": "markdown",
   "metadata": {},
   "source": [
    "## Downsample the dataset and make all the rating the balanced dataset "
   ]
  },
  {
   "cell_type": "code",
   "execution_count": 4,
   "metadata": {},
   "outputs": [
    {
     "name": "stdout",
     "output_type": "stream",
     "text": [
      "5.0    19375\n",
      "4.0    19375\n",
      "3.0    19375\n",
      "2.0    19375\n",
      "1.0    19375\n",
      "Name: review_rating, dtype: int64\n",
      "(96875, 17)\n"
     ]
    }
   ],
   "source": [
    "from sklearn.utils import resample\n",
    "df_final_4_2_ds = resample(df_final_4_2, replace = False,n_samples=len(df_final_4_1),\n",
    "                                                    random_state=123)\n",
    "df_final_4_3_ds = resample(df_final_4_3, replace = False,n_samples=len(df_final_4_1),\n",
    "                                                    random_state=123)\n",
    "df_final_4_4_ds = resample(df_final_4_4, replace = False,n_samples=len(df_final_4_1),\n",
    "                                                    random_state=123)\n",
    "df_final_4_5_ds = resample(df_final_4_5, replace = False,n_samples=len(df_final_4_1),\n",
    "                                                    random_state=123)\n",
    "df_final_ds= pd.concat([df_final_4_1, df_final_4_2_ds,df_final_4_3_ds,df_final_4_4_ds,df_final_4_5_ds])\n",
    "print(df_final_ds.review_rating.value_counts())\n",
    "print(df_final_ds.shape)\n"
   ]
  },
  {
   "cell_type": "code",
   "execution_count": 5,
   "metadata": {},
   "outputs": [
    {
     "name": "stderr",
     "output_type": "stream",
     "text": [
      "/home/lin/.local/lib/python3.6/site-packages/matplotlib/__init__.py:886: MatplotlibDeprecationWarning: \n",
      "examples.directory is deprecated; in the future, examples will be found relative to the 'datapath' directory.\n",
      "  \"found relative to the 'datapath' directory.\".format(key))\n"
     ]
    }
   ],
   "source": [
    "import numpy as np\n",
    "import pandas as pd\n",
    "from pandas import Series, DataFrame\n",
    "\n",
    "# plot imports\n",
    "import matplotlib.pyplot as plt\n",
    "import seaborn as sns\n",
    "sns.set_style('whitegrid')\n",
    "%matplotlib inline"
   ]
  },
  {
   "cell_type": "code",
   "execution_count": 33,
   "metadata": {
    "scrolled": true
   },
   "outputs": [
    {
     "data": {
      "text/plain": [
       "<seaborn.axisgrid.PairGrid at 0x7f6d6357d898>"
      ]
     },
     "execution_count": 33,
     "metadata": {},
     "output_type": "execute_result"
    },
    {
     "data": {
      "image/png": "[encoded data removed]",
      "text/plain": [
       "<Figure size 976x180 with 5 Axes>"
      ]
     },
     "metadata": {
      "needs_background": "light"
     },
     "output_type": "display_data"
    }
   ],
   "source": [
    "sns.pairplot(data = df_final_ds, hue='review_rating', y_vars=['review_rating'], x_vars=['number_wrds', 'number_adj','neg', 'neu', 'pos' ])\n"
   ]
  },
  {
   "cell_type": "code",
   "execution_count": 34,
   "metadata": {
    "scrolled": true
   },
   "outputs": [],
   "source": [
    "# sns.pairplot(df_final_4[['review_rating','number_wrds', 'number_adj', 'pos','number_puncuation']], hue='review_rating')"
   ]
  },
  {
   "cell_type": "code",
   "execution_count": 36,
   "metadata": {
    "scrolled": true
   },
   "outputs": [
    {
     "data": {
      "text/plain": [
       "<seaborn.axisgrid.PairGrid at 0x7f6d5e60aa58>"
      ]
     },
     "execution_count": 36,
     "metadata": {},
     "output_type": "execute_result"
    },
    {
     "data": {
      "image/png": "[encoded data removed]",
      "text/plain": [
       "<Figure size 976x180 with 5 Axes>"
      ]
     },
     "metadata": {
      "needs_background": "light"
     },
     "output_type": "display_data"
    }
   ],
   "source": [
    "sns.pairplot(data = df_final_ds, hue='review_rating', y_vars=['review_rating'], x_vars=['Topic_1', 'Topic_2', 'Topic_3', 'Topic_4', 'Topic_5' ])\n"
   ]
  },
  {
   "cell_type": "code",
   "execution_count": 37,
   "metadata": {},
   "outputs": [
    {
     "data": {
      "text/html": [
       "<div>\n",
       "<style scoped>\n",
       "    .dataframe tbody tr th:only-of-type {\n",
       "        vertical-align: middle;\n",
       "    }\n",
       "\n",
       "    .dataframe tbody tr th {\n",
       "        vertical-align: top;\n",
       "    }\n",
       "\n",
       "    .dataframe thead th {\n",
       "        text-align: right;\n",
       "    }\n",
       "</style>\n",
       "<table border=\"1\" class=\"dataframe\">\n",
       "  <thead>\n",
       "    <tr style=\"text-align: right;\">\n",
       "      <th></th>\n",
       "      <th>Unnamed: 0</th>\n",
       "      <th>Topic_1</th>\n",
       "      <th>Topic_2</th>\n",
       "      <th>Topic_3</th>\n",
       "      <th>Topic_4</th>\n",
       "      <th>Topic_5</th>\n",
       "      <th>review_rating</th>\n",
       "      <th>number_puncuation</th>\n",
       "      <th>number_raw_wrds</th>\n",
       "      <th>number_wrds</th>\n",
       "      <th>number_adj</th>\n",
       "      <th>number_noun</th>\n",
       "      <th>number_verb</th>\n",
       "      <th>compound</th>\n",
       "      <th>neg</th>\n",
       "      <th>neu</th>\n",
       "      <th>pos</th>\n",
       "    </tr>\n",
       "  </thead>\n",
       "  <tbody>\n",
       "    <tr>\n",
       "      <th>6</th>\n",
       "      <td>13</td>\n",
       "      <td>0.237680</td>\n",
       "      <td>0.277039</td>\n",
       "      <td>0.008200</td>\n",
       "      <td>0.000610</td>\n",
       "      <td>0.476471</td>\n",
       "      <td>1.0</td>\n",
       "      <td>26.0</td>\n",
       "      <td>224.0</td>\n",
       "      <td>79.0</td>\n",
       "      <td>12.0</td>\n",
       "      <td>38.0</td>\n",
       "      <td>40.0</td>\n",
       "      <td>0.8424</td>\n",
       "      <td>0.083</td>\n",
       "      <td>0.791</td>\n",
       "      <td>0.126</td>\n",
       "    </tr>\n",
       "    <tr>\n",
       "      <th>16</th>\n",
       "      <td>30</td>\n",
       "      <td>0.126404</td>\n",
       "      <td>0.471867</td>\n",
       "      <td>0.010829</td>\n",
       "      <td>0.000733</td>\n",
       "      <td>0.390166</td>\n",
       "      <td>1.0</td>\n",
       "      <td>23.0</td>\n",
       "      <td>176.0</td>\n",
       "      <td>66.0</td>\n",
       "      <td>11.0</td>\n",
       "      <td>36.0</td>\n",
       "      <td>32.0</td>\n",
       "      <td>0.8063</td>\n",
       "      <td>0.029</td>\n",
       "      <td>0.884</td>\n",
       "      <td>0.087</td>\n",
       "    </tr>\n",
       "    <tr>\n",
       "      <th>25</th>\n",
       "      <td>43</td>\n",
       "      <td>0.278259</td>\n",
       "      <td>0.007441</td>\n",
       "      <td>0.006053</td>\n",
       "      <td>0.033992</td>\n",
       "      <td>0.674256</td>\n",
       "      <td>1.0</td>\n",
       "      <td>28.0</td>\n",
       "      <td>237.0</td>\n",
       "      <td>86.0</td>\n",
       "      <td>12.0</td>\n",
       "      <td>45.0</td>\n",
       "      <td>45.0</td>\n",
       "      <td>0.1408</td>\n",
       "      <td>0.075</td>\n",
       "      <td>0.852</td>\n",
       "      <td>0.073</td>\n",
       "    </tr>\n",
       "    <tr>\n",
       "      <th>34</th>\n",
       "      <td>53</td>\n",
       "      <td>0.223071</td>\n",
       "      <td>0.066424</td>\n",
       "      <td>0.157279</td>\n",
       "      <td>0.000392</td>\n",
       "      <td>0.552833</td>\n",
       "      <td>1.0</td>\n",
       "      <td>46.0</td>\n",
       "      <td>334.0</td>\n",
       "      <td>120.0</td>\n",
       "      <td>24.0</td>\n",
       "      <td>51.0</td>\n",
       "      <td>61.0</td>\n",
       "      <td>0.9605</td>\n",
       "      <td>0.100</td>\n",
       "      <td>0.744</td>\n",
       "      <td>0.156</td>\n",
       "    </tr>\n",
       "    <tr>\n",
       "      <th>76</th>\n",
       "      <td>118</td>\n",
       "      <td>0.147515</td>\n",
       "      <td>0.021440</td>\n",
       "      <td>0.028447</td>\n",
       "      <td>0.001531</td>\n",
       "      <td>0.801066</td>\n",
       "      <td>1.0</td>\n",
       "      <td>4.0</td>\n",
       "      <td>77.0</td>\n",
       "      <td>28.0</td>\n",
       "      <td>3.0</td>\n",
       "      <td>12.0</td>\n",
       "      <td>19.0</td>\n",
       "      <td>0.2617</td>\n",
       "      <td>0.077</td>\n",
       "      <td>0.845</td>\n",
       "      <td>0.078</td>\n",
       "    </tr>\n",
       "  </tbody>\n",
       "</table>\n",
       "</div>"
      ],
      "text/plain": [
       "    Unnamed: 0   Topic_1   Topic_2   Topic_3   Topic_4   Topic_5  \\\n",
       "6           13  0.237680  0.277039  0.008200  0.000610  0.476471   \n",
       "16          30  0.126404  0.471867  0.010829  0.000733  0.390166   \n",
       "25          43  0.278259  0.007441  0.006053  0.033992  0.674256   \n",
       "34          53  0.223071  0.066424  0.157279  0.000392  0.552833   \n",
       "76         118  0.147515  0.021440  0.028447  0.001531  0.801066   \n",
       "\n",
       "    review_rating  number_puncuation  number_raw_wrds  number_wrds  \\\n",
       "6             1.0               26.0            224.0         79.0   \n",
       "16            1.0               23.0            176.0         66.0   \n",
       "25            1.0               28.0            237.0         86.0   \n",
       "34            1.0               46.0            334.0        120.0   \n",
       "76            1.0                4.0             77.0         28.0   \n",
       "\n",
       "    number_adj  number_noun  number_verb  compound    neg    neu    pos  \n",
       "6         12.0         38.0         40.0    0.8424  0.083  0.791  0.126  \n",
       "16        11.0         36.0         32.0    0.8063  0.029  0.884  0.087  \n",
       "25        12.0         45.0         45.0    0.1408  0.075  0.852  0.073  \n",
       "34        24.0         51.0         61.0    0.9605  0.100  0.744  0.156  \n",
       "76         3.0         12.0         19.0    0.2617  0.077  0.845  0.078  "
      ]
     },
     "execution_count": 37,
     "metadata": {},
     "output_type": "execute_result"
    }
   ],
   "source": [
    "df_final_ds.head()"
   ]
  },
  {
   "cell_type": "code",
   "execution_count": 6,
   "metadata": {},
   "outputs": [],
   "source": [
    "Y = df_final_ds.review_rating\n",
    "X = df_final_ds.drop(['review_rating','Unnamed: 0'], axis=1)\n",
    "# Y\n",
    "# X"
   ]
  },
  {
   "cell_type": "code",
   "execution_count": null,
   "metadata": {},
   "outputs": [],
   "source": [
    "from sklearn import preprocessing \n"
   ]
  },
  {
   "cell_type": "markdown",
   "metadata": {},
   "source": [
    "## Logistic Regression Multinomial \n"
   ]
  },
  {
   "cell_type": "code",
   "execution_count": 7,
   "metadata": {
    "scrolled": true
   },
   "outputs": [
    {
     "name": "stderr",
     "output_type": "stream",
     "text": [
      "/home/lin/.local/lib/python3.6/site-packages/sklearn/linear_model/logistic.py:432: FutureWarning: Default solver will be changed to 'lbfgs' in 0.22. Specify a solver to silence this warning.\n",
      "  FutureWarning)\n",
      "/home/lin/.local/lib/python3.6/site-packages/sklearn/linear_model/logistic.py:459: FutureWarning: Default multi_class will be changed to 'auto' in 0.22. Specify the multi_class option to silence this warning.\n",
      "  \"this warning.\", FutureWarning)\n"
     ]
    },
    {
     "name": "stdout",
     "output_type": "stream",
     "text": [
      "0.41873107624552713\n",
      "0.3130333058078723\n"
     ]
    },
    {
     "name": "stderr",
     "output_type": "stream",
     "text": [
      "/home/lin/.local/lib/python3.6/site-packages/sklearn/linear_model/logistic.py:757: ConvergenceWarning: lbfgs failed to converge. Increase the number of iterations.\n",
      "  \"of iterations.\", ConvergenceWarning)\n"
     ]
    }
   ],
   "source": [
    "from sklearn.linear_model import LogisticRegression\n",
    "from sklearn.model_selection import train_test_split\n",
    "\n",
    "log_reg = LogisticRegression()\n",
    "log_reg_multiNM = LogisticRegression(multi_class='multinomial',solver ='lbfgs')\n",
    "\n",
    "X_train, X_test, Y_train, Y_test = train_test_split(X,Y,test_size = 0.15,random_state=0)\n",
    "\n",
    "log_reg.fit(X_train, Y_train)\n",
    "log_reg_multiNM.fit(X_train, Y_train)\n",
    "\n",
    "\n",
    "from sklearn import metrics\n",
    "\n",
    "Y_pred = log_reg.predict(X_test)\n",
    "Y_pred_NM = log_reg_multiNM.predict(X_test)\n",
    "\n",
    "print(metrics.accuracy_score(Y_test, Y_pred))\n",
    "print(metrics.accuracy_score(Y_test,Y_pred_NM))"
   ]
  },
  {
   "cell_type": "code",
   "execution_count": null,
   "metadata": {},
   "outputs": [],
   "source": []
  },
  {
   "cell_type": "markdown",
   "metadata": {},
   "source": [
    "## Decision tree "
   ]
  },
  {
   "cell_type": "code",
   "execution_count": 54,
   "metadata": {},
   "outputs": [
    {
     "name": "stdout",
     "output_type": "stream",
     "text": [
      "0.3576943721871258\n"
     ]
    }
   ],
   "source": [
    "# # training a DescisionTreeClassifier \n",
    "from sklearn.tree import DecisionTreeClassifier \n",
    "X_train, X_test, Y_train, Y_test = train_test_split(X,Y,random_state=0)\n",
    "dtree_model = DecisionTreeClassifier(max_depth = 2).fit(X_train, Y_train) \n",
    "dtree_predictions = dtree_model.predict(X_test) \n",
    "accuracy_dtree = dtree_model.score(X_test,Y_test)\n",
    "print(accuracy_dtree)"
   ]
  },
  {
   "cell_type": "markdown",
   "metadata": {},
   "source": [
    "## SVM "
   ]
  },
  {
   "cell_type": "code",
   "execution_count": null,
   "metadata": {},
   "outputs": [],
   "source": [
    "from sklearn.svm import SVC \n",
    "svm_model_linear = SVC(kernel = 'linear', C = 1).fit(X_train, Y_train) \n",
    "svm_predictions = svm_model_linear.predict(X_test) \n",
    "  \n",
    "# model accuracy for X_test   \n",
    "accuracy_svm = svm_model_linear.score(X_test, Y_test) \n",
    "print(accuracy_svm) \n",
    "# creating a confusion matrix \n",
    "# cm = confusion_matrix(Y_test, svm_predictions) \n",
    "# cm"
   ]
  },
  {
   "cell_type": "markdown",
   "metadata": {},
   "source": [
    "## KNN "
   ]
  },
  {
   "cell_type": "code",
   "execution_count": null,
   "metadata": {},
   "outputs": [],
   "source": [
    "from sklearn.neighbors import KNeighborsClassifier \n",
    "knn = KNeighborsClassifier(n_neighbors = 3).fit(X_train, Y_train) \n",
    "  \n",
    "# accuracy on X_test \n",
    "accuracy_Knn = knn.score(X_test, Y_test) \n",
    "print (accuracy_Knn)\n",
    "  \n",
    "# creating a confusion matrix \n",
    "# knn_predictions = knn.predict(X_test)  \n",
    "# cm = confusion_matrix(Y_test, knn_predictions)  7 025 \n",
    "\n",
    "\n",
    "\n",
    "### k 7 acu 0.25 \n"
   ]
  },
  {
   "cell_type": "code",
   "execution_count": null,
   "metadata": {},
   "outputs": [],
   "source": [
    "## change the nunber of neighbors and compare the accuracy "
   ]
  },
  {
   "cell_type": "markdown",
   "metadata": {},
   "source": [
    "## Naive Bayes "
   ]
  },
  {
   "cell_type": "code",
   "execution_count": 8,
   "metadata": {},
   "outputs": [
    {
     "name": "stdout",
     "output_type": "stream",
     "text": [
      "0.39134324249931185\n"
     ]
    }
   ],
   "source": [
    "from sklearn.naive_bayes import GaussianNB \n",
    "gnb = GaussianNB().fit(X_train, Y_train) \n",
    "gnb_predictions = gnb.predict(X_test) \n",
    "  \n",
    "# accuracy on X_test \n",
    "accuracy_GNB = gnb.score(X_test, Y_test) \n",
    "print (accuracy_GNB)  \n",
    "# # creating a confusion matrix \n",
    "# cm = confusion_matrix(y_test, gnb_predictions) "
   ]
  },
  {
   "cell_type": "code",
   "execution_count": null,
   "metadata": {},
   "outputs": [],
   "source": []
  },
  {
   "cell_type": "code",
   "execution_count": null,
   "metadata": {},
   "outputs": [],
   "source": []
  },
  {
   "cell_type": "code",
   "execution_count": null,
   "metadata": {},
   "outputs": [],
   "source": []
  },
  {
   "cell_type": "code",
   "execution_count": null,
   "metadata": {},
   "outputs": [],
   "source": []
  },
  {
   "cell_type": "code",
   "execution_count": null,
   "metadata": {},
   "outputs": [],
   "source": []
  },
  {
   "cell_type": "code",
   "execution_count": null,
   "metadata": {},
   "outputs": [],
   "source": []
  },
  {
   "cell_type": "code",
   "execution_count": null,
   "metadata": {},
   "outputs": [],
   "source": []
  },
  {
   "cell_type": "code",
   "execution_count": null,
   "metadata": {},
   "outputs": [],
   "source": []
  },
  {
   "cell_type": "code",
   "execution_count": null,
   "metadata": {},
   "outputs": [],
   "source": []
  },
  {
   "cell_type": "code",
   "execution_count": null,
   "metadata": {},
   "outputs": [],
   "source": []
  },
  {
   "cell_type": "code",
   "execution_count": null,
   "metadata": {},
   "outputs": [],
   "source": [
    "# https://scikit-learn.org/stable/modules/multiclass.html "
   ]
  },
  {
   "cell_type": "code",
   "execution_count": 62,
   "metadata": {
    "scrolled": false
   },
   "outputs": [
    {
     "name": "stderr",
     "output_type": "stream",
     "text": [
      "/home/lin/.local/lib/python3.6/site-packages/sklearn/linear_model/logistic.py:432: FutureWarning: Default solver will be changed to 'lbfgs' in 0.22. Specify a solver to silence this warning.\n",
      "  FutureWarning)\n",
      "/home/lin/.local/lib/python3.6/site-packages/sklearn/linear_model/logistic.py:459: FutureWarning: Default multi_class will be changed to 'auto' in 0.22. Specify the multi_class option to silence this warning.\n",
      "  \"this warning.\", FutureWarning)\n"
     ]
    },
    {
     "name": "stdout",
     "output_type": "stream",
     "text": [
      "0.44576460861191913\n",
      "Accuracy of logistic regression classifier on test set: 0.44\n"
     ]
    }
   ],
   "source": [
    "from sklearn.linear_model import LogisticRegression\n",
    "from sklearn import metrics\n",
    "from sklearn.model_selection import train_test_split\n",
    "X_train, X_test, y_train, y_test = train_test_split(X, y, test_size=0.2, random_state=0)\n",
    "logreg = LogisticRegression(multi_class='multinomial',solver ='newton-cg')\n",
    "logreg.fit(X_train, y_train)\n",
    "\n",
    "\n",
    " \n",
    "# Train model\n",
    "clf_0 = LogisticRegression().fit(X, y)\n",
    " \n",
    "# Predict on training set\n",
    "pred_y_0 = clf_0.predict(X) \n",
    "\n",
    "# How's the accuracy?\n",
    "print( accuracy_score(pred_y_0, y) ) \n",
    "\n",
    "y_pred = logreg.predict(X_test)\n",
    "print('Accuracy of logistic regression classifier on test set: {:.2f}'.format(logreg.score(X_test, y_test))) ## 44%"
   ]
  },
  {
   "cell_type": "markdown",
   "metadata": {},
   "source": [
    "## Random Forest Model "
   ]
  },
  {
   "cell_type": "code",
   "execution_count": null,
   "metadata": {},
   "outputs": [],
   "source": [
    "## Random Forest "
   ]
  },
  {
   "cell_type": "code",
   "execution_count": 50,
   "metadata": {},
   "outputs": [
    {
     "data": {
      "text/html": [
       "<div>\n",
       "<style scoped>\n",
       "    .dataframe tbody tr th:only-of-type {\n",
       "        vertical-align: middle;\n",
       "    }\n",
       "\n",
       "    .dataframe tbody tr th {\n",
       "        vertical-align: top;\n",
       "    }\n",
       "\n",
       "    .dataframe thead th {\n",
       "        text-align: right;\n",
       "    }\n",
       "</style>\n",
       "<table border=\"1\" class=\"dataframe\">\n",
       "  <thead>\n",
       "    <tr style=\"text-align: right;\">\n",
       "      <th></th>\n",
       "      <th>Variable</th>\n",
       "      <th>Importance</th>\n",
       "    </tr>\n",
       "  </thead>\n",
       "  <tbody>\n",
       "    <tr>\n",
       "      <th>0</th>\n",
       "      <td>compound</td>\n",
       "      <td>0.230780</td>\n",
       "    </tr>\n",
       "    <tr>\n",
       "      <th>1</th>\n",
       "      <td>ConverSeq</td>\n",
       "      <td>0.161370</td>\n",
       "    </tr>\n",
       "    <tr>\n",
       "      <th>2</th>\n",
       "      <td>Topic_1</td>\n",
       "      <td>0.135453</td>\n",
       "    </tr>\n",
       "    <tr>\n",
       "      <th>3</th>\n",
       "      <td>Topic_5</td>\n",
       "      <td>0.120466</td>\n",
       "    </tr>\n",
       "    <tr>\n",
       "      <th>4</th>\n",
       "      <td>Topic_3</td>\n",
       "      <td>0.114744</td>\n",
       "    </tr>\n",
       "    <tr>\n",
       "      <th>5</th>\n",
       "      <td>Topic_4</td>\n",
       "      <td>0.095999</td>\n",
       "    </tr>\n",
       "    <tr>\n",
       "      <th>6</th>\n",
       "      <td>Topic_2</td>\n",
       "      <td>0.071890</td>\n",
       "    </tr>\n",
       "    <tr>\n",
       "      <th>7</th>\n",
       "      <td>AttachNum</td>\n",
       "      <td>0.035691</td>\n",
       "    </tr>\n",
       "    <tr>\n",
       "      <th>8</th>\n",
       "      <td>AttachTypeNum</td>\n",
       "      <td>0.033607</td>\n",
       "    </tr>\n",
       "  </tbody>\n",
       "</table>\n",
       "</div>"
      ],
      "text/plain": [
       "        Variable  Importance\n",
       "0       compound    0.230780\n",
       "1      ConverSeq    0.161370\n",
       "2        Topic_1    0.135453\n",
       "3        Topic_5    0.120466\n",
       "4        Topic_3    0.114744\n",
       "5        Topic_4    0.095999\n",
       "6        Topic_2    0.071890\n",
       "7      AttachNum    0.035691\n",
       "8  AttachTypeNum    0.033607"
      ]
     },
     "execution_count": 50,
     "metadata": {},
     "output_type": "execute_result"
    }
   ],
   "source": [
    "import pandas as pd\n",
    "feature_imp = pd.Series(clf.feature_importances_,index= X_train.columns).sort_values(ascending=False)\n",
    "feature_imp_df = pd.DataFrame({'Variable':feature_imp.index, 'Importance':feature_imp.values})\n",
    "feature_imp_df"
   ]
  },
  {
   "cell_type": "code",
   "execution_count": null,
   "metadata": {},
   "outputs": [],
   "source": []
  }
 ],
 "metadata": {
  "kernelspec": {
   "display_name": "Python 3",
   "language": "python",
   "name": "python3"
  },
  "language_info": {
   "codemirror_mode": {
    "name": "ipython",
    "version": 3
   },
   "file_extension": ".py",
   "mimetype": "text/x-python",
   "name": "python",
   "nbconvert_exporter": "python",
   "pygments_lexer": "ipython3",
   "version": "3.6.7"
  }
 },
 "nbformat": 4,
 "nbformat_minor": 2
}
